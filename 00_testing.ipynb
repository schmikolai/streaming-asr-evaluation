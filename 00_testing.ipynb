{
 "cells": [
  {
   "cell_type": "code",
   "execution_count": 1,
   "id": "a80c8c11",
   "metadata": {},
   "outputs": [],
   "source": [
    "from src.melvin.stream import Stream\n",
    "from src.melvin.Transcriber import Transcriber\n",
    "from src.melvin.StreamTranscriber import StreamTranscriber\n",
    "\n",
    "from src.eval.TimedStreamingTranscriber import TimedStreamingTranscriber\n",
    "from src.eval.Dataset import Dataset\n",
    "from src.eval.OutputHandler import OutputHandler"
   ]
  },
  {
   "cell_type": "code",
   "execution_count": 2,
   "id": "1c4ed3e3",
   "metadata": {},
   "outputs": [],
   "source": [
    "w = StreamTranscriber.for_gpu(\"large-v3-turbo\", [0])\n",
    "dataset = Dataset()"
   ]
  },
  {
   "cell_type": "code",
   "execution_count": 3,
   "id": "85c0031b",
   "metadata": {},
   "outputs": [
    {
     "name": "stdout",
     "output_type": "stream",
     "text": [
      "121-123859-0000\n",
      "93.24\n"
     ]
    }
   ],
   "source": [
    "while True:\n",
    "    id, X, y = next(dataset)\n",
    "    if len(X)/32000 < 100:\n",
    "        break\n",
    "print(id)\n",
    "print(len(X)/32000)"
   ]
  },
  {
   "cell_type": "code",
   "execution_count": 4,
   "id": "29b39c79",
   "metadata": {},
   "outputs": [
    {
     "name": "stdout",
     "output_type": "stream",
     "text": [
      "Transcribing audio data with 2983680 bytes\n"
     ]
    },
    {
     "name": "stderr",
     "output_type": "stream",
     "text": [
      "Transcribing: 933chunk [01:33,  9.94chunk/s]                      \n"
     ]
    }
   ],
   "source": [
    "out = OutputHandler()\n",
    "stream = Stream(w, 0, out)\n",
    "transcriber = TimedStreamingTranscriber(stream)\n",
    "y_pred = await transcriber.transcribe(X)"
   ]
  },
  {
   "cell_type": "code",
   "execution_count": 5,
   "id": "d15c7671",
   "metadata": {},
   "outputs": [
    {
     "data": {
      "text/plain": [
       "181"
      ]
     },
     "execution_count": 5,
     "metadata": {},
     "output_type": "execute_result"
    }
   ],
   "source": [
    "len(out.messages)"
   ]
  },
  {
   "cell_type": "code",
   "execution_count": 12,
   "id": "0e0fbbad",
   "metadata": {},
   "outputs": [
    {
     "name": "stdout",
     "output_type": "stream",
     "text": [
      "Partial:  You  are  my  old.\n",
      "Partial:  you  are  my  all  the  world\n",
      "Partial:  you  are  my  all  the  world  and  i  must\n",
      "Partial:  you  are  my  all  the  world  and  i  must  strive\n",
      "Final: You are my all the world and i must\n",
      "Partial:  strive  to  know  my  shame.\n",
      "Partial:  strive  to  know  my  shames  and  praise.\n",
      "Final: strive to know my\n",
      "Partial:  shames  and  praises  from  your  tongue.\n",
      "Partial:  shames  and  praises  from  your  tongue.\n",
      "Final: shames and praises from your tongue.\n",
      "Partial:  tongue  none  else  to  me  nor\n",
      "Final: tongue\n",
      "Partial:  none  else  to  me  nor  i  to  none  alone\n",
      "Partial:  none  else  to  me  nor  i  to  none\n",
      "Final: none else to me nor i to none\n",
      "Partial:  alive\n",
      "Final: alive\n",
      "Partial:  alive  that  my\n",
      "Final: alive that\n",
      "Partial:  my  steeled  sense\n",
      "Partial:  my  steeled  sense  or\n",
      "Partial:  my  steeled  sense  or  changes.\n",
      "Final: my steeled sense or\n",
      "Partial:  steeled  sense  or  changes  right\n",
      "Partial:  changes  right  or  wrong.\n",
      "Final: changes right\n",
      "Partial:  changes  right  or  wrong.\n",
      "Partial:  or  wrong.\n",
      "Partial:  or  wrong.\n",
      "Final: or wrong.\n",
      "Partial:  oh  tis  the  first\n",
      "Final: oh tis the first\n",
      "Partial:  first,  tis  flattering.\n",
      "Partial:  first,  tis  flattery  in  my  sense.\n",
      "Partial:  first  the  first\n",
      "Partial:  my  shames  and  praises  from\n",
      "Final: first, tis my shames and praises from\n",
      "Partial:  mind  most  kingly\n",
      "Partial:  mind  most  kingly  drinks  it  up.\n",
      "Partial:  mind  most  kingly  drinks  it  up\n",
      "Partial:  mind  most  kingly  drinks  it  up.\n",
      "Partial:  mind  most  kingly  drinks  it  up  mine  eye\n",
      "Partial:  mind  most  kingly  drinks  it  up.  Mine  eye  well  knows.\n",
      "Partial:  mind  most  kingly  drinks  it  up.  mine  eye  well  knows  what\n",
      "Final: mind most kingly drinks it up.\n",
      "Partial:  flattery  in  my  seeing  and  my  great  mind  most  kingly  drinks  it  up  mine  eye  well  knows  what  with  his\n",
      "Partial:  Mine  eye  well  knows  what  with  his  gust\n",
      "Partial:  Mine  eye  well  knows  what  with  his  gust  is  green,  and  to  his  palate  doth  prepare  the  cup.\n",
      "Partial:  mine  eye  well  knows  what  with  his  gust  is  green  and  to  his  palate  doth  prepare  the  cup  if  it\n",
      "Partial:  Mine  eye  well  knows  what  with  his  gust  is  green,  And  to  his  palate  doth  prepare  the  cup,  If  it  be  poison.\n",
      "Final: mine eye well knows what cup If it\n",
      "Partial:  well  knows  what  with  his  gust  is  green,  and  to  his  palate  doth  prepare  the  cup,  if  it  be  poisoned.\n",
      "Partial:  be  poisoned,  tis  the  less\n",
      "Partial:  In  my  seeing,  To  be  continued...\n",
      "Partial:  be  poisoned,  tis  the  lesser  sin\n",
      "Partial:  In  my  seeing,  Thank  you.\n",
      "Partial:  In  my  seeing,  Thank  you.\n",
      "Partial:  be  poisoned  tis  the  lesser  sin  that  mine  eye\n",
      "Partial:  In  my  seeing,  Thank  you.\n",
      "Partial:  In  my  seeing,\n",
      "Partial:  In  my  seeing,  You\n",
      "Partial:  In  my  seeing,  Thank  you.\n",
      "Partial:  In  my  seeing,  Thank  you.\n",
      "Partial:  In  my  seeing,\n",
      "Final: In my seeing, my seeing, In my seeing,\n",
      "Partial:  time,  whose  million\n",
      "Partial:  time,  whose  millioned  axes\n",
      "Final: time, whose\n",
      "Partial:  But  reckoning  time,  whose  million'd  accidents\n",
      "Partial:  million  accidents  creep  We'll  be  right  back.\n",
      "Partial:  prepare  the  cup,  creep  in  twixt  of\n",
      "Partial:  million'd  accidents  creep  in\n",
      "Partial:  prepare  the  cup,  Creep  in  twixt  vows  In\n",
      "Partial:  prepare  the  cup,  creep  in  twixt  vows  and  change\n",
      "Final: prepare the cup, creep in twixt vows\n",
      "Partial:  prepare  the  cup,  Creep  in  twixt  vows  And  change  decreases\n",
      "Partial:  and  change  decrees  of  kings\n",
      "Partial:  and  change  decrees  of  kings\n",
      "Final: and change decrees of kings\n",
      "Partial:  kings  Tan  sacred\n",
      "Partial:  kings  Tan  sacred  beauty\n",
      "Partial:  kings  Tan's  sacred  beauty  Blunt  the  shadow\n",
      "Partial:  kings  Tan  sacred  beauty  Blunt  the  sharpest  intent\n",
      "Partial:  kings  Tan  sacred  beauty  Blunt  the  sharpest  intents  Divert\n",
      "Partial:  kings  Tan  sacred  beauty,  blunt  the  sharpest  intents  Diverts  strong  minds\n",
      "Final: kings Tan sacred beauty, blunt the sharpest intents\n",
      "Partial:  decrees  of  kings  tan  sacred  beauty  blunt  the  sharpest  intents  divert  strong  minds  to  the  core\n",
      "Partial:  intents  divert  strong  minds  to  the  course  of  altering.\n",
      "Partial:  intents  divert  strong  minds  to  the  course  of  altering  things\n",
      "Partial:  intents  divert  strong  minds  to  the  course  of  altering  things.  Alas!\n",
      "Partial:  intents  divert  strong  minds  to  the  course  of  altering  things.  Alas,  why...\n",
      "Final: intents divert strong minds to the course of altering things.\n",
      "Partial:  intents,  divert  strong  minds  to  the  course  of  altering  things.  Alas,  why  fearing  of  time\n",
      "Partial:  accidents  creep  in\n",
      "Partial:  Accidents,  creep  in\n",
      "Partial:  Accidents,  creep  in\n",
      "Partial:  Accidents,  creep  in\n",
      "Partial:  Accidents,  creep  in\n",
      "Final: Alas, why Accidents, creep in Accidents, creep in\n",
      "Partial:  or  in  certainty?\n",
      "Partial:  or  in  certainty?\n",
      "Final: or in certainty?\n",
      "Partial:  certainty,  crowning  the  present?\n",
      "Partial:  certainty  crowning  the  present\n",
      "Partial:  certainty,  crowning  the  present,  doubtful.\n",
      "Final: certainty, crowning the present,\n",
      "Partial:  certainty,  crowning  the  present,  doubting  of  the  present?\n",
      "Partial:  doubting  of  the  rest\n",
      "Partial:  doubting  of  the  rest?\n",
      "Partial:  doubting  of  the  rest?\n",
      "Final: doubting of the rest?\n",
      "Partial:  Love  is  a  babe.\n",
      "Partial:  Love  is  a  babe.\n",
      "Final: Love is a babe.\n",
      "Partial:  babe.  Then  might  I  not  say,\n",
      "Partial:  babe  then  might  i  not  say  so\n",
      "Final: babe then might i not say\n",
      "Partial:  then  might  i  not  say  so\n",
      "Partial:  you  best\n",
      "Partial:  you  best  to  give\n",
      "Partial:  you  best\n",
      "Partial:  so  to  give  full  growth\n",
      "Partial:  you  best  to  give  full  growth  to  that\n",
      "Final: you best give full growth\n",
      "Partial:  so  to  give  full  growth  to  that\n",
      "Partial:  to  that  which...\n",
      "Partial:  to  that  which  still  You\n",
      "Partial:  to  that  which  still  doth  grow?\n",
      "Partial:  to  that  which  still  doth  grow\n",
      "Partial:  to  that  which  still  doth  grow\n",
      "Partial:  I  was  certain  or  in  certainty,\n",
      "Partial:  to  that  which  still  doth\n",
      "Partial:  I  was  certain  or  in  certainty,  You\n",
      "Final: I was certain or in certainty, I was certain or in certainty,\n",
      "Partial:  I  was  certain  or  in  certainty,\n",
      "Partial:  and  gain  by  my  content.\n",
      "Partial:  and  gain  by  ill\n",
      "Final: and gain by\n",
      "Partial:  and  gain  by  ill\n",
      "Partial:  by  ill\n",
      "Partial:  by  ill  thrice  more\n",
      "Partial:  ill  thrice  more\n",
      "Partial:  by  ill  thrice  more  than  i  am\n",
      "Final: ill thrice more\n",
      "Partial:  by  ill  thrice  more  than  i  have  said\n",
      "Partial:  than  I  have  spent\n"
     ]
    }
   ],
   "source": [
    "import json\n",
    "\n",
    "messages = [json.loads(msg) for msg in out.messages]\n",
    "for m in messages:\n",
    "    if \"text\" in m and m[\"text\"]:\n",
    "        print(\"Final:\", m[\"text\"])\n",
    "    if \"partial\" in m and m[\"partial\"]:\n",
    "        print(\"Partial:\", m[\"partial\"])"
   ]
  }
 ],
 "metadata": {
  "kernelspec": {
   "display_name": "Python 3",
   "language": "python",
   "name": "python3"
  },
  "language_info": {
   "codemirror_mode": {
    "name": "ipython",
    "version": 3
   },
   "file_extension": ".py",
   "mimetype": "text/x-python",
   "name": "python",
   "nbconvert_exporter": "python",
   "pygments_lexer": "ipython3",
   "version": "3.11.11"
  }
 },
 "nbformat": 4,
 "nbformat_minor": 5
}
