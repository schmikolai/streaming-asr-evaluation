{
 "cells": [
  {
   "cell_type": "code",
   "execution_count": 17,
   "metadata": {},
   "outputs": [],
   "source": [
    "import pandas as pd"
   ]
  },
  {
   "cell_type": "code",
   "execution_count": 18,
   "metadata": {},
   "outputs": [
    {
     "data": {
      "text/html": [
       "<div>\n",
       "<style scoped>\n",
       "    .dataframe tbody tr th:only-of-type {\n",
       "        vertical-align: middle;\n",
       "    }\n",
       "\n",
       "    .dataframe tbody tr th {\n",
       "        vertical-align: top;\n",
       "    }\n",
       "\n",
       "    .dataframe thead th {\n",
       "        text-align: right;\n",
       "    }\n",
       "</style>\n",
       "<table border=\"1\" class=\"dataframe\">\n",
       "  <thead>\n",
       "    <tr style=\"text-align: right;\">\n",
       "      <th></th>\n",
       "      <th>id</th>\n",
       "      <th>wer</th>\n",
       "      <th>pred_transcription</th>\n",
       "      <th>time</th>\n",
       "      <th>pred_transcription_clean</th>\n",
       "      <th>wer_clean</th>\n",
       "    </tr>\n",
       "  </thead>\n",
       "  <tbody>\n",
       "    <tr>\n",
       "      <th>0</th>\n",
       "      <td>2961-961-0000</td>\n",
       "      <td>0.235977</td>\n",
       "      <td>Socrates begins the Timaeus with a summary of ...</td>\n",
       "      <td>105.995751</td>\n",
       "      <td>socrates begins the timaeus with a summary of ...</td>\n",
       "      <td>0.094961</td>\n",
       "    </tr>\n",
       "    <tr>\n",
       "      <th>1</th>\n",
       "      <td>4970-29093-0000</td>\n",
       "      <td>0.255000</td>\n",
       "      <td>You'll never dig it out of the Astor Library. ...</td>\n",
       "      <td>121.421180</td>\n",
       "      <td>youll never dig it out of the astor library li...</td>\n",
       "      <td>0.183333</td>\n",
       "    </tr>\n",
       "    <tr>\n",
       "      <th>2</th>\n",
       "      <td>6930-76324-0001</td>\n",
       "      <td>0.270833</td>\n",
       "      <td>There were certainly no near the solution of t...</td>\n",
       "      <td>84.058183</td>\n",
       "      <td>there were certainly no near the solution of t...</td>\n",
       "      <td>0.159722</td>\n",
       "    </tr>\n",
       "    <tr>\n",
       "      <th>3</th>\n",
       "      <td>7729-102255-0000</td>\n",
       "      <td>0.267874</td>\n",
       "      <td>The bogus legislature numbered 36 members. Thi...</td>\n",
       "      <td>241.035547</td>\n",
       "      <td>the bogus legislature numbered 36 members this...</td>\n",
       "      <td>0.136320</td>\n",
       "    </tr>\n",
       "    <tr>\n",
       "      <th>4</th>\n",
       "      <td>5105-28240-0000</td>\n",
       "      <td>0.205128</td>\n",
       "      <td>Fast as his legs could carry him, Servodak had...</td>\n",
       "      <td>100.095036</td>\n",
       "      <td>fast as his legs could carry him servodak had ...</td>\n",
       "      <td>0.141026</td>\n",
       "    </tr>\n",
       "    <tr>\n",
       "      <th>...</th>\n",
       "      <td>...</td>\n",
       "      <td>...</td>\n",
       "      <td>...</td>\n",
       "      <td>...</td>\n",
       "      <td>...</td>\n",
       "      <td>...</td>\n",
       "    </tr>\n",
       "    <tr>\n",
       "      <th>78</th>\n",
       "      <td>1995-1837-0000</td>\n",
       "      <td>0.205941</td>\n",
       "      <td>He knew the silver fleece, his and zora's must...</td>\n",
       "      <td>100.129853</td>\n",
       "      <td>he knew the silver fleece his and zoras must b...</td>\n",
       "      <td>0.061386</td>\n",
       "    </tr>\n",
       "    <tr>\n",
       "      <th>79</th>\n",
       "      <td>237-126133-0000</td>\n",
       "      <td>0.321348</td>\n",
       "      <td>Here she would stay, comforted and soothed amo...</td>\n",
       "      <td>92.567921</td>\n",
       "      <td>here she would stay comforted and soothed amon...</td>\n",
       "      <td>0.184270</td>\n",
       "    </tr>\n",
       "    <tr>\n",
       "      <th>80</th>\n",
       "      <td>6829-68771-0000</td>\n",
       "      <td>0.261561</td>\n",
       "      <td>So, to the surprise of the Democratic Committe...</td>\n",
       "      <td>132.127315</td>\n",
       "      <td>so to the surprise of the democratic committee...</td>\n",
       "      <td>0.114162</td>\n",
       "    </tr>\n",
       "    <tr>\n",
       "      <th>81</th>\n",
       "      <td>5683-32879-0000</td>\n",
       "      <td>0.217949</td>\n",
       "      <td>It was not very much past eleven that morning ...</td>\n",
       "      <td>105.007132</td>\n",
       "      <td>it was not very much past eleven that morning ...</td>\n",
       "      <td>0.088172</td>\n",
       "    </tr>\n",
       "    <tr>\n",
       "      <th>82</th>\n",
       "      <td>121-121726-0000</td>\n",
       "      <td>0.392593</td>\n",
       "      <td>Also, a popular contrivance whereby lovemaking...</td>\n",
       "      <td>42.698488</td>\n",
       "      <td>also a popular contrivance whereby lovemaking ...</td>\n",
       "      <td>0.229630</td>\n",
       "    </tr>\n",
       "  </tbody>\n",
       "</table>\n",
       "<p>83 rows × 6 columns</p>\n",
       "</div>"
      ],
      "text/plain": [
       "                  id       wer  \\\n",
       "0      2961-961-0000  0.235977   \n",
       "1    4970-29093-0000  0.255000   \n",
       "2    6930-76324-0001  0.270833   \n",
       "3   7729-102255-0000  0.267874   \n",
       "4    5105-28240-0000  0.205128   \n",
       "..               ...       ...   \n",
       "78    1995-1837-0000  0.205941   \n",
       "79   237-126133-0000  0.321348   \n",
       "80   6829-68771-0000  0.261561   \n",
       "81   5683-32879-0000  0.217949   \n",
       "82   121-121726-0000  0.392593   \n",
       "\n",
       "                                   pred_transcription        time  \\\n",
       "0   Socrates begins the Timaeus with a summary of ...  105.995751   \n",
       "1   You'll never dig it out of the Astor Library. ...  121.421180   \n",
       "2   There were certainly no near the solution of t...   84.058183   \n",
       "3   The bogus legislature numbered 36 members. Thi...  241.035547   \n",
       "4   Fast as his legs could carry him, Servodak had...  100.095036   \n",
       "..                                                ...         ...   \n",
       "78  He knew the silver fleece, his and zora's must...  100.129853   \n",
       "79  Here she would stay, comforted and soothed amo...   92.567921   \n",
       "80  So, to the surprise of the Democratic Committe...  132.127315   \n",
       "81  It was not very much past eleven that morning ...  105.007132   \n",
       "82  Also, a popular contrivance whereby lovemaking...   42.698488   \n",
       "\n",
       "                             pred_transcription_clean  wer_clean  \n",
       "0   socrates begins the timaeus with a summary of ...   0.094961  \n",
       "1   youll never dig it out of the astor library li...   0.183333  \n",
       "2   there were certainly no near the solution of t...   0.159722  \n",
       "3   the bogus legislature numbered 36 members this...   0.136320  \n",
       "4   fast as his legs could carry him servodak had ...   0.141026  \n",
       "..                                                ...        ...  \n",
       "78  he knew the silver fleece his and zoras must b...   0.061386  \n",
       "79  here she would stay comforted and soothed amon...   0.184270  \n",
       "80  so to the surprise of the democratic committee...   0.114162  \n",
       "81  it was not very much past eleven that morning ...   0.088172  \n",
       "82  also a popular contrivance whereby lovemaking ...   0.229630  \n",
       "\n",
       "[83 rows x 6 columns]"
      ]
     },
     "execution_count": 18,
     "metadata": {},
     "output_type": "execute_result"
    }
   ],
   "source": [
    "run = \"out/2025-04-09_13-12-43_librispeech-pc-test-clean_cs32000_large-v3-turbo_ws15.0_ft6.csv\"\n",
    "df = pd.read_csv(run)\n",
    "df"
   ]
  },
  {
   "cell_type": "code",
   "execution_count": 19,
   "metadata": {},
   "outputs": [
    {
     "name": "stdout",
     "output_type": "stream",
     "text": [
      "Average WER: 0.2450971014450712\n",
      "Standard deviation WER: 0.06308326686011924\n"
     ]
    }
   ],
   "source": [
    "print(\"Average WER:\", df[\"wer\"].mean())\n",
    "print(\"Standard deviation WER:\", df[\"wer\"].std())"
   ]
  },
  {
   "cell_type": "code",
   "execution_count": 20,
   "metadata": {},
   "outputs": [],
   "source": [
    "def remove_pc(s: str) -> str:\n",
    "    \"\"\"Remove the PC from the string.\"\"\"\n",
    "    return s.lower().replace(\".\", \"\").replace(\",\", \"\").replace(\"'\", \"\").replace('\"', \"\").replace(\"`\", \"\").replace(\"(\", \"\").replace(\")\", \"\").replace(\"[\", \"\").replace(\"]\", \"\").replace(\"{\", \"\").replace(\"}\", \"\").replace(\";\", \"\").replace(\":\", \"\").replace(\"!\", \"\").replace(\"?\", \"\")"
   ]
  },
  {
   "cell_type": "code",
   "execution_count": 21,
   "metadata": {},
   "outputs": [],
   "source": [
    "def load_ground_truth(id: str) -> str:\n",
    "    \"\"\"Load the ground truth for the given id.\"\"\"\n",
    "    with open(f\"data/librispeech-pc-test-clean/{id}/{id}.txt\", \"r\") as f:\n",
    "        return f.read().strip()"
   ]
  },
  {
   "cell_type": "code",
   "execution_count": 22,
   "metadata": {},
   "outputs": [],
   "source": [
    "df[\"true_transcription\"] = df[\"id\"].apply(load_ground_truth)\n",
    "df[\"true_transcription_clean\"] = df[\"true_transcription\"].apply(remove_pc)\n",
    "df[\"pred_transcription_clean\"] = df[\"pred_transcription\"].apply(remove_pc)"
   ]
  },
  {
   "cell_type": "code",
   "execution_count": 23,
   "metadata": {},
   "outputs": [],
   "source": [
    "import jiwer\n",
    "\n",
    "df[\"wer_clean\"] = df.apply(\n",
    "    lambda row: jiwer.wer(row[\"true_transcription_clean\"], row[\"pred_transcription_clean\"]),\n",
    "    axis=1,\n",
    ")"
   ]
  },
  {
   "cell_type": "code",
   "execution_count": 24,
   "metadata": {},
   "outputs": [],
   "source": [
    "librispeech_total_seconds = 17943.12\n",
    "total_time = df[\"time\"].sum()"
   ]
  },
  {
   "cell_type": "code",
   "execution_count": 27,
   "metadata": {},
   "outputs": [
    {
     "name": "stdout",
     "output_type": "stream",
     "text": [
      "Realtime factor 1.766933399115167\n",
      "Average WER: 0.2450971014450712\n",
      "Standard deviation WER: 0.06308326686011924\n",
      "Average WER (no punctuation): 0.12923889950858602\n",
      "Standard deviation WER (no punctuation): 0.052931759551064266\n"
     ]
    }
   ],
   "source": [
    "print(\"Realtime factor\", librispeech_total_seconds / total_time)\n",
    "print(\"Average WER:\", df[\"wer\"].mean())\n",
    "print(\"Standard deviation WER:\", df[\"wer\"].std())\n",
    "print(\"Average WER (no punctuation):\", df[\"wer_clean\"].mean())\n",
    "print(\"Standard deviation WER (no punctuation):\", df[\"wer_clean\"].std())"
   ]
  },
  {
   "cell_type": "code",
   "execution_count": 26,
   "metadata": {},
   "outputs": [],
   "source": [
    "# Remove true transcriptions from output\n",
    "df = df.drop(columns=[\"true_transcription\", \"true_transcription_clean\"])\n",
    "df.to_csv(\"out/2025-04-09_13-12-43_librispeech-pc-test-clean_cs32000_large-v3-turbo_ws15.0_ft6.csv\", index=False)"
   ]
  }
 ],
 "metadata": {
  "kernelspec": {
   "display_name": "base",
   "language": "python",
   "name": "python3"
  },
  "language_info": {
   "codemirror_mode": {
    "name": "ipython",
    "version": 3
   },
   "file_extension": ".py",
   "mimetype": "text/x-python",
   "name": "python",
   "nbconvert_exporter": "python",
   "pygments_lexer": "ipython3",
   "version": "3.12.9"
  }
 },
 "nbformat": 4,
 "nbformat_minor": 2
}
