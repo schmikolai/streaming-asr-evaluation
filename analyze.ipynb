{
 "cells": [
  {
   "cell_type": "code",
   "execution_count": 17,
   "metadata": {},
   "outputs": [],
   "source": [
    "import pandas as pd"
   ]
  },
  {
   "cell_type": "code",
   "execution_count": 18,
   "metadata": {},
   "outputs": [
    {
     "data": {
      "text/html": [
       "<div>\n",
       "<style scoped>\n",
       "    .dataframe tbody tr th:only-of-type {\n",
       "        vertical-align: middle;\n",
       "    }\n",
       "\n",
       "    .dataframe tbody tr th {\n",
       "        vertical-align: top;\n",
       "    }\n",
       "\n",
       "    .dataframe thead th {\n",
       "        text-align: right;\n",
       "    }\n",
       "</style>\n",
       "<table border=\"1\" class=\"dataframe\">\n",
       "  <thead>\n",
       "    <tr style=\"text-align: right;\">\n",
       "      <th></th>\n",
       "      <th>id</th>\n",
       "      <th>wer</th>\n",
       "      <th>pred_transcription</th>\n",
       "      <th>time</th>\n",
       "    </tr>\n",
       "  </thead>\n",
       "  <tbody>\n",
       "    <tr>\n",
       "      <th>0</th>\n",
       "      <td>2961-961-0000</td>\n",
       "      <td>0.272727</td>\n",
       "      <td>Socrates begins the Timaeus with a summary of ...</td>\n",
       "      <td>209.098996</td>\n",
       "    </tr>\n",
       "    <tr>\n",
       "      <th>1</th>\n",
       "      <td>4970-29093-0000</td>\n",
       "      <td>0.193333</td>\n",
       "      <td>You'll never dig it out of the Astor Library. ...</td>\n",
       "      <td>231.183140</td>\n",
       "    </tr>\n",
       "    <tr>\n",
       "      <th>2</th>\n",
       "      <td>6930-76324-0001</td>\n",
       "      <td>0.280093</td>\n",
       "      <td>there were certainly no near the solution of t...</td>\n",
       "      <td>160.168945</td>\n",
       "    </tr>\n",
       "    <tr>\n",
       "      <th>3</th>\n",
       "      <td>7729-102255-0000</td>\n",
       "      <td>0.285987</td>\n",
       "      <td>The Bogus legislature numbered 36 members. mem...</td>\n",
       "      <td>457.076795</td>\n",
       "    </tr>\n",
       "    <tr>\n",
       "      <th>4</th>\n",
       "      <td>5105-28240-0000</td>\n",
       "      <td>0.166667</td>\n",
       "      <td>Fast as his legs could carry him. Servodak had...</td>\n",
       "      <td>191.172782</td>\n",
       "    </tr>\n",
       "    <tr>\n",
       "      <th>...</th>\n",
       "      <td>...</td>\n",
       "      <td>...</td>\n",
       "      <td>...</td>\n",
       "      <td>...</td>\n",
       "    </tr>\n",
       "    <tr>\n",
       "      <th>78</th>\n",
       "      <td>1995-1837-0000</td>\n",
       "      <td>0.265347</td>\n",
       "      <td>He knew the silver fleece, his and zora's must...</td>\n",
       "      <td>192.879359</td>\n",
       "    </tr>\n",
       "    <tr>\n",
       "      <th>79</th>\n",
       "      <td>237-126133-0000</td>\n",
       "      <td>0.278652</td>\n",
       "      <td>Here she would stay, comforted and soothed amo...</td>\n",
       "      <td>175.684041</td>\n",
       "    </tr>\n",
       "    <tr>\n",
       "      <th>80</th>\n",
       "      <td>6829-68771-0000</td>\n",
       "      <td>0.280347</td>\n",
       "      <td>So, to the surprise of the Democratic democrat...</td>\n",
       "      <td>252.892305</td>\n",
       "    </tr>\n",
       "    <tr>\n",
       "      <th>81</th>\n",
       "      <td>5683-32879-0000</td>\n",
       "      <td>0.243590</td>\n",
       "      <td>It was not very much past 11 eleven that morni...</td>\n",
       "      <td>198.427665</td>\n",
       "    </tr>\n",
       "    <tr>\n",
       "      <th>82</th>\n",
       "      <td>121-121726-0000</td>\n",
       "      <td>0.451852</td>\n",
       "      <td>Also a popular contrivance whereby lovemaking ...</td>\n",
       "      <td>81.833643</td>\n",
       "    </tr>\n",
       "  </tbody>\n",
       "</table>\n",
       "<p>83 rows × 4 columns</p>\n",
       "</div>"
      ],
      "text/plain": [
       "                  id       wer  \\\n",
       "0      2961-961-0000  0.272727   \n",
       "1    4970-29093-0000  0.193333   \n",
       "2    6930-76324-0001  0.280093   \n",
       "3   7729-102255-0000  0.285987   \n",
       "4    5105-28240-0000  0.166667   \n",
       "..               ...       ...   \n",
       "78    1995-1837-0000  0.265347   \n",
       "79   237-126133-0000  0.278652   \n",
       "80   6829-68771-0000  0.280347   \n",
       "81   5683-32879-0000  0.243590   \n",
       "82   121-121726-0000  0.451852   \n",
       "\n",
       "                                   pred_transcription        time  \n",
       "0   Socrates begins the Timaeus with a summary of ...  209.098996  \n",
       "1   You'll never dig it out of the Astor Library. ...  231.183140  \n",
       "2   there were certainly no near the solution of t...  160.168945  \n",
       "3   The Bogus legislature numbered 36 members. mem...  457.076795  \n",
       "4   Fast as his legs could carry him. Servodak had...  191.172782  \n",
       "..                                                ...         ...  \n",
       "78  He knew the silver fleece, his and zora's must...  192.879359  \n",
       "79  Here she would stay, comforted and soothed amo...  175.684041  \n",
       "80  So, to the surprise of the Democratic democrat...  252.892305  \n",
       "81  It was not very much past 11 eleven that morni...  198.427665  \n",
       "82  Also a popular contrivance whereby lovemaking ...   81.833643  \n",
       "\n",
       "[83 rows x 4 columns]"
      ]
     },
     "execution_count": 18,
     "metadata": {},
     "output_type": "execute_result"
    }
   ],
   "source": [
    "run = \"out/2025-04-13_12-32-11_librispeech-pc-test-clean_cs16000_large-v3-turbo_ws15.0_ft6.csv\"\n",
    "df = pd.read_csv(run)\n",
    "df"
   ]
  },
  {
   "cell_type": "code",
   "execution_count": 19,
   "metadata": {},
   "outputs": [
    {
     "name": "stdout",
     "output_type": "stream",
     "text": [
      "Average WER: 0.24745206484293214\n",
      "Standard deviation WER: 0.06618886462200975\n"
     ]
    }
   ],
   "source": [
    "print(\"Average WER:\", df[\"wer\"].mean())\n",
    "print(\"Standard deviation WER:\", df[\"wer\"].std())"
   ]
  },
  {
   "cell_type": "code",
   "execution_count": 20,
   "metadata": {},
   "outputs": [],
   "source": [
    "def remove_pc(s: str) -> str:\n",
    "    \"\"\"Remove the PC from the string.\"\"\"\n",
    "    return s.lower().replace(\".\", \"\").replace(\",\", \"\").replace(\"'\", \"\").replace('\"', \"\").replace(\"`\", \"\").replace(\"(\", \"\").replace(\")\", \"\").replace(\"[\", \"\").replace(\"]\", \"\").replace(\"{\", \"\").replace(\"}\", \"\").replace(\";\", \"\").replace(\":\", \"\").replace(\"!\", \"\").replace(\"?\", \"\")"
   ]
  },
  {
   "cell_type": "code",
   "execution_count": 21,
   "metadata": {},
   "outputs": [],
   "source": [
    "def load_ground_truth(id: str) -> str:\n",
    "    \"\"\"Load the ground truth for the given id.\"\"\"\n",
    "    with open(f\"data/librispeech-pc-test-clean/{id}/{id}.txt\", \"r\") as f:\n",
    "        return f.read().strip()"
   ]
  },
  {
   "cell_type": "code",
   "execution_count": 22,
   "metadata": {},
   "outputs": [],
   "source": [
    "df[\"true_transcription\"] = df[\"id\"].apply(load_ground_truth)\n",
    "df[\"true_transcription_clean\"] = df[\"true_transcription\"].apply(remove_pc)\n",
    "df[\"pred_transcription_clean\"] = df[\"pred_transcription\"].apply(remove_pc)"
   ]
  },
  {
   "cell_type": "code",
   "execution_count": 23,
   "metadata": {},
   "outputs": [],
   "source": [
    "import jiwer\n",
    "\n",
    "df[\"wer_clean\"] = df.apply(\n",
    "    lambda row: jiwer.wer(row[\"true_transcription_clean\"], row[\"pred_transcription_clean\"]),\n",
    "    axis=1,\n",
    ")"
   ]
  },
  {
   "cell_type": "code",
   "execution_count": 24,
   "metadata": {},
   "outputs": [],
   "source": [
    "librispeech_total_seconds = 17943.12\n",
    "total_time = df[\"time\"].sum()"
   ]
  },
  {
   "cell_type": "code",
   "execution_count": 27,
   "metadata": {},
   "outputs": [
    {
     "name": "stdout",
     "output_type": "stream",
     "text": [
      "Realtime factor 0.9235761415576417 \n",
      "\n",
      "Mean WER: 0.24745206484293214\n",
      "Standard deviation WER: 0.06618886462200975 \n",
      "\n",
      "Mean WER (no punctuation): 0.12152826253174259\n",
      "Standard deviation WER (no punctuation): 0.03893982084079961\n"
     ]
    }
   ],
   "source": [
    "print(\"Realtime factor\", librispeech_total_seconds / total_time, \"\\n\")\n",
    "print(\"Mean WER:\", df[\"wer\"].mean())\n",
    "print(\"Standard deviation WER:\", df[\"wer\"].std(), \"\\n\")\n",
    "print(\"Mean WER (no punctuation):\", df[\"wer_clean\"].mean())\n",
    "print(\"Standard deviation WER (no punctuation):\", df[\"wer_clean\"].std())"
   ]
  },
  {
   "cell_type": "code",
   "execution_count": 26,
   "metadata": {},
   "outputs": [],
   "source": [
    "# Remove true transcriptions from output\n",
    "df = df.drop(columns=[\"true_transcription\", \"true_transcription_clean\"])\n",
    "df.to_csv(run, index=False)"
   ]
  }
 ],
 "metadata": {
  "kernelspec": {
   "display_name": "asr",
   "language": "python",
   "name": "python3"
  },
  "language_info": {
   "codemirror_mode": {
    "name": "ipython",
    "version": 3
   },
   "file_extension": ".py",
   "mimetype": "text/x-python",
   "name": "python",
   "nbconvert_exporter": "python",
   "pygments_lexer": "ipython3",
   "version": "3.11.0"
  }
 },
 "nbformat": 4,
 "nbformat_minor": 2
}
