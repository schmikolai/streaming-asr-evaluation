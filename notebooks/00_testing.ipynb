{
 "cells": [
  {
   "cell_type": "code",
   "execution_count": null,
   "id": "a80c8c11",
   "metadata": {},
   "outputs": [],
   "source": [
    "from src.melvin.stream import Stream\n",
    "from src.melvin.Transcriber import Transcriber\n",
    "\n",
    "from src.eval.TimedStreamingTranscriber import TimedStreamingTranscriber\n",
    "from src.eval.Dataset import Dataset\n",
    "from src.eval.OutputHandler import OutputHandler"
   ]
  },
  {
   "cell_type": "code",
   "execution_count": null,
   "id": "1c4ed3e3",
   "metadata": {},
   "outputs": [],
   "source": [
    "w = Transcriber.for_gpu(\"large-v3-turbo\", [0])\n",
    "stream = Stream(w, 0, OutputHandler())"
   ]
  },
  {
   "cell_type": "code",
   "execution_count": null,
   "id": "85c0031b",
   "metadata": {},
   "outputs": [],
   "source": [
    "dataset = Dataset()\n",
    "_, X, y = next(dataset)"
   ]
  },
  {
   "cell_type": "code",
   "execution_count": null,
   "id": "29b39c79",
   "metadata": {},
   "outputs": [],
   "source": [
    "transcriber = TimedStreamingTranscriber(w, stream)\n",
    "y_pred = transcriber.transcribe(X)"
   ]
  }
 ],
 "metadata": {
  "language_info": {
   "name": "python"
  }
 },
 "nbformat": 4,
 "nbformat_minor": 5
}
