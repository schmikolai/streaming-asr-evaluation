{
 "cells": [
  {
   "cell_type": "code",
   "execution_count": 6,
   "id": "b44f1331",
   "metadata": {},
   "outputs": [],
   "source": [
    "import sys\n",
    "sys.path.append(\"..\")\n",
    "\n",
    "from src.run.Dataset import Dataset\n",
    "from src.run.RealtimeRunner import RealtimeRunner"
   ]
  },
  {
   "cell_type": "code",
   "execution_count": 7,
   "id": "33f81e9d",
   "metadata": {},
   "outputs": [],
   "source": [
    "from src.helper.logger import init_logger, set_global_loglevel\n",
    "init_logger(level=\"DEBUG\")"
   ]
  },
  {
   "cell_type": "code",
   "execution_count": 8,
   "id": "60086762",
   "metadata": {},
   "outputs": [
    {
     "name": "stderr",
     "output_type": "stream",
     "text": [
      "\u001b[37m[2025-06-14 15:10:14,549 src.run.Dataset:23] INFO Loaded dataset librispeech-pc-test-clean with 1 elements\u001b[0m\n"
     ]
    }
   ],
   "source": [
    "dataset = Dataset(datasets_dir=\"../data\", dataset_ids=[\"121-121726-0000\"])"
   ]
  },
  {
   "cell_type": "code",
   "execution_count": null,
   "id": "4d894012",
   "metadata": {},
   "outputs": [],
   "source": [
    "import os\n",
    "os.environ[\"ASSEMBLYAI_API_KEY\"] = \"\""
   ]
  },
  {
   "cell_type": "code",
   "execution_count": null,
   "id": "fad7eae9",
   "metadata": {},
   "outputs": [],
   "source": [
    "runner = RealtimeRunner(dataset, method=\"assemblyai\", out_dir=\"../out/assemblyai\")\n",
    "await runner.run()"
   ]
  }
 ],
 "metadata": {
  "kernelspec": {
   "display_name": "asr",
   "language": "python",
   "name": "python3"
  },
  "language_info": {
   "codemirror_mode": {
    "name": "ipython",
    "version": 3
   },
   "file_extension": ".py",
   "mimetype": "text/x-python",
   "name": "python",
   "nbconvert_exporter": "python",
   "pygments_lexer": "ipython3",
   "version": "3.11.8"
  }
 },
 "nbformat": 4,
 "nbformat_minor": 5
}
