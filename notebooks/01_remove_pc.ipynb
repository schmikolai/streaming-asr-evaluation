{
 "cells": [
  {
   "cell_type": "markdown",
   "metadata": {},
   "source": [
    "# Infer transcription results without punctuation\n",
    "\n",
    "This notebooks augments a run with transcriptions without punctuation. By doing so, I get aanother virtual test run for librispeech without puntuation. The difference of errors can be interpreted as all the instances, where the system predicted the correct word, but either the case, or the punctuation did not match. These instances have lower impact on overall text understanding."
   ]
  },
  {
   "cell_type": "code",
   "execution_count": 1,
   "metadata": {},
   "outputs": [],
   "source": [
    "import pandas as pd"
   ]
  },
  {
   "cell_type": "code",
   "execution_count": 2,
   "metadata": {},
   "outputs": [
    {
     "data": {
      "text/html": [
       "<div>\n",
       "<style scoped>\n",
       "    .dataframe tbody tr th:only-of-type {\n",
       "        vertical-align: middle;\n",
       "    }\n",
       "\n",
       "    .dataframe tbody tr th {\n",
       "        vertical-align: top;\n",
       "    }\n",
       "\n",
       "    .dataframe thead th {\n",
       "        text-align: right;\n",
       "    }\n",
       "</style>\n",
       "<table border=\"1\" class=\"dataframe\">\n",
       "  <thead>\n",
       "    <tr style=\"text-align: right;\">\n",
       "      <th></th>\n",
       "      <th>id</th>\n",
       "      <th>wer</th>\n",
       "      <th>pred_transcription</th>\n",
       "      <th>time</th>\n",
       "    </tr>\n",
       "  </thead>\n",
       "  <tbody>\n",
       "    <tr>\n",
       "      <th>0</th>\n",
       "      <td>2961-961-0000</td>\n",
       "      <td>0.220503</td>\n",
       "      <td>socrates begins the timaeus with a summary of...</td>\n",
       "      <td>4.024658</td>\n",
       "    </tr>\n",
       "    <tr>\n",
       "      <th>1</th>\n",
       "      <td>4970-29093-0000</td>\n",
       "      <td>0.111667</td>\n",
       "      <td>you'll never dig it out of the astor library ...</td>\n",
       "      <td>4.773546</td>\n",
       "    </tr>\n",
       "    <tr>\n",
       "      <th>2</th>\n",
       "      <td>6930-76324-0001</td>\n",
       "      <td>0.180556</td>\n",
       "      <td>they were certainly no near the solution of t...</td>\n",
       "      <td>3.610766</td>\n",
       "    </tr>\n",
       "    <tr>\n",
       "      <th>3</th>\n",
       "      <td>7729-102255-0000</td>\n",
       "      <td>0.241182</td>\n",
       "      <td>the bogus legislature numbered thirty-six mem...</td>\n",
       "      <td>9.543177</td>\n",
       "    </tr>\n",
       "    <tr>\n",
       "      <th>4</th>\n",
       "      <td>5105-28240-0000</td>\n",
       "      <td>0.119658</td>\n",
       "      <td>Fast as his legs could carry him, Servadak ha...</td>\n",
       "      <td>3.614152</td>\n",
       "    </tr>\n",
       "    <tr>\n",
       "      <th>...</th>\n",
       "      <td>...</td>\n",
       "      <td>...</td>\n",
       "      <td>...</td>\n",
       "      <td>...</td>\n",
       "    </tr>\n",
       "    <tr>\n",
       "      <th>78</th>\n",
       "      <td>1995-1837-0000</td>\n",
       "      <td>0.138614</td>\n",
       "      <td>he knew the silver fleece his and zora's must...</td>\n",
       "      <td>3.913258</td>\n",
       "    </tr>\n",
       "    <tr>\n",
       "      <th>79</th>\n",
       "      <td>237-126133-0000</td>\n",
       "      <td>0.240449</td>\n",
       "      <td>here she would stay comforted and soothed amo...</td>\n",
       "      <td>3.372552</td>\n",
       "    </tr>\n",
       "    <tr>\n",
       "      <th>80</th>\n",
       "      <td>6829-68771-0000</td>\n",
       "      <td>0.236994</td>\n",
       "      <td>so to the surprise of the democratic committe...</td>\n",
       "      <td>4.585420</td>\n",
       "    </tr>\n",
       "    <tr>\n",
       "      <th>81</th>\n",
       "      <td>5683-32879-0000</td>\n",
       "      <td>0.230769</td>\n",
       "      <td>it was not very much past eleven that morning...</td>\n",
       "      <td>3.784462</td>\n",
       "    </tr>\n",
       "    <tr>\n",
       "      <th>82</th>\n",
       "      <td>121-121726-0000</td>\n",
       "      <td>0.214815</td>\n",
       "      <td>Also a popular contrivance, whereby lovemakin...</td>\n",
       "      <td>1.685050</td>\n",
       "    </tr>\n",
       "  </tbody>\n",
       "</table>\n",
       "<p>83 rows × 4 columns</p>\n",
       "</div>"
      ],
      "text/plain": [
       "                  id       wer  \\\n",
       "0      2961-961-0000  0.220503   \n",
       "1    4970-29093-0000  0.111667   \n",
       "2    6930-76324-0001  0.180556   \n",
       "3   7729-102255-0000  0.241182   \n",
       "4    5105-28240-0000  0.119658   \n",
       "..               ...       ...   \n",
       "78    1995-1837-0000  0.138614   \n",
       "79   237-126133-0000  0.240449   \n",
       "80   6829-68771-0000  0.236994   \n",
       "81   5683-32879-0000  0.230769   \n",
       "82   121-121726-0000  0.214815   \n",
       "\n",
       "                                   pred_transcription      time  \n",
       "0    socrates begins the timaeus with a summary of...  4.024658  \n",
       "1    you'll never dig it out of the astor library ...  4.773546  \n",
       "2    they were certainly no near the solution of t...  3.610766  \n",
       "3    the bogus legislature numbered thirty-six mem...  9.543177  \n",
       "4    Fast as his legs could carry him, Servadak ha...  3.614152  \n",
       "..                                                ...       ...  \n",
       "78   he knew the silver fleece his and zora's must...  3.913258  \n",
       "79   here she would stay comforted and soothed amo...  3.372552  \n",
       "80   so to the surprise of the democratic committe...  4.585420  \n",
       "81   it was not very much past eleven that morning...  3.784462  \n",
       "82   Also a popular contrivance, whereby lovemakin...  1.685050  \n",
       "\n",
       "[83 rows x 4 columns]"
      ]
     },
     "execution_count": 2,
     "metadata": {},
     "output_type": "execute_result"
    }
   ],
   "source": [
    "run = \"../out/baseline_large-v3-turbo.csv\"\n",
    "df = pd.read_csv(run)\n",
    "df"
   ]
  },
  {
   "cell_type": "code",
   "execution_count": 3,
   "metadata": {},
   "outputs": [
    {
     "name": "stdout",
     "output_type": "stream",
     "text": [
      "Average WER: 0.1759498098019635\n",
      "Standard deviation WER: 0.07930608679759424\n"
     ]
    }
   ],
   "source": [
    "print(\"Average WER:\", df[\"wer\"].mean())\n",
    "print(\"Standard deviation WER:\", df[\"wer\"].std())"
   ]
  },
  {
   "cell_type": "code",
   "execution_count": 4,
   "metadata": {},
   "outputs": [],
   "source": [
    "def remove_pc(s: str) -> str:\n",
    "    \"\"\"Remove the PC from the string.\"\"\"\n",
    "    return s.lower().replace(\".\", \"\").replace(\",\", \"\").replace(\"'\", \"\").replace('\"', \"\").replace(\"`\", \"\").replace(\"(\", \"\").replace(\")\", \"\").replace(\"[\", \"\").replace(\"]\", \"\").replace(\"{\", \"\").replace(\"}\", \"\").replace(\";\", \"\").replace(\":\", \"\").replace(\"!\", \"\").replace(\"?\", \"\")"
   ]
  },
  {
   "cell_type": "code",
   "execution_count": 8,
   "metadata": {},
   "outputs": [],
   "source": [
    "def load_ground_truth(id: str) -> str:\n",
    "    \"\"\"Load the ground truth for the given id.\"\"\"\n",
    "    with open(f\"../data/librispeech-pc-test-clean/{id}/{id}.txt\", \"r\") as f:\n",
    "        return f.read().strip()"
   ]
  },
  {
   "cell_type": "code",
   "execution_count": 9,
   "metadata": {},
   "outputs": [],
   "source": [
    "df[\"true_transcription\"] = df[\"id\"].apply(load_ground_truth)\n",
    "df[\"true_transcription_clean\"] = df[\"true_transcription\"].apply(remove_pc)\n",
    "df[\"pred_transcription_clean\"] = df[\"pred_transcription\"].apply(remove_pc)"
   ]
  },
  {
   "cell_type": "code",
   "execution_count": 10,
   "metadata": {},
   "outputs": [],
   "source": [
    "import jiwer\n",
    "\n",
    "df[\"wer_clean\"] = df.apply(\n",
    "    lambda row: jiwer.wer(row[\"true_transcription_clean\"], row[\"pred_transcription_clean\"]),\n",
    "    axis=1,\n",
    ")"
   ]
  },
  {
   "cell_type": "code",
   "execution_count": 11,
   "metadata": {},
   "outputs": [],
   "source": [
    "librispeech_total_seconds = 17943.12\n",
    "total_time = df[\"time\"].sum()"
   ]
  },
  {
   "cell_type": "code",
   "execution_count": 12,
   "metadata": {},
   "outputs": [
    {
     "name": "stdout",
     "output_type": "stream",
     "text": [
      "Realtime factor 42.56759713089274 \n",
      "\n",
      "Mean WER: 0.1759498098019635\n",
      "Standard deviation WER: 0.07930608679759424 \n",
      "\n",
      "Mean WER (no punctuation): 0.04101236386149508\n",
      "Standard deviation WER (no punctuation): 0.054833869140468\n"
     ]
    }
   ],
   "source": [
    "print(\"Realtime factor\", librispeech_total_seconds / total_time, \"\\n\")\n",
    "print(\"Mean WER:\", df[\"wer\"].mean())\n",
    "print(\"Standard deviation WER:\", df[\"wer\"].std(), \"\\n\")\n",
    "print(\"Mean WER (no punctuation):\", df[\"wer_clean\"].mean())\n",
    "print(\"Standard deviation WER (no punctuation):\", df[\"wer_clean\"].std())"
   ]
  },
  {
   "cell_type": "code",
   "execution_count": 13,
   "metadata": {},
   "outputs": [],
   "source": [
    "# Remove true transcriptions from output\n",
    "df = df.drop(columns=[\"true_transcription\", \"true_transcription_clean\"])\n",
    "df.to_csv(run, index=False)"
   ]
  }
 ],
 "metadata": {
  "kernelspec": {
   "display_name": "asr",
   "language": "python",
   "name": "python3"
  },
  "language_info": {
   "codemirror_mode": {
    "name": "ipython",
    "version": 3
   },
   "file_extension": ".py",
   "mimetype": "text/x-python",
   "name": "python",
   "nbconvert_exporter": "python",
   "pygments_lexer": "ipython3",
   "version": "3.11.11"
  }
 },
 "nbformat": 4,
 "nbformat_minor": 2
}
