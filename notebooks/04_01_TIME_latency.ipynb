{
 "cells": [
  {
   "cell_type": "markdown",
   "id": "ad09a98b",
   "metadata": {},
   "source": [
    "# Latency evaluation"
   ]
  },
  {
   "cell_type": "code",
   "execution_count": 1,
   "id": "14fb23c8",
   "metadata": {},
   "outputs": [],
   "source": [
    "RESULT_DIR = \"../out/2025-07-29_17-19-11_librispeech-pc-test-clean_assemblyai\"\n",
    "RESULT_DIR = \"../out/2025-05-05_13-29-23_librispeech-pc-test-clean_large-v3-turbo\""
   ]
  },
  {
   "cell_type": "code",
   "execution_count": 2,
   "id": "f1f279a4",
   "metadata": {},
   "outputs": [],
   "source": [
    "import os\n",
    "import sys\n",
    "sys.path.append(\"..\")\n",
    "\n",
    "import math\n",
    "import numpy as np\n",
    "import matplotlib.pyplot as plt\n",
    "import pandas as pd\n",
    "\n",
    "from src.eval.SampleResult import SampleResult"
   ]
  },
  {
   "cell_type": "code",
   "execution_count": 3,
   "id": "75316dd6",
   "metadata": {},
   "outputs": [
    {
     "name": "stderr",
     "output_type": "stream",
     "text": [
      "/home/niko/Code/streaming-asr-evaluation/notebooks/../src/eval/SampleResult.py:162: UserWarning: Final MFA file not found: ../out/2025-05-05_13-29-23_librispeech-pc-test-clean_large-v3-turbo/mfa/7127-75947-0000/7127-75947-0000.TextGrid\n",
      "  warnings.warn(f\"Final MFA file not found: {final_mfa_path}\")\n",
      "/home/niko/Code/streaming-asr-evaluation/notebooks/../src/eval/SampleResult.py:162: UserWarning: Final MFA file not found: ../out/2025-05-05_13-29-23_librispeech-pc-test-clean_large-v3-turbo/mfa/3575-170457-0000/3575-170457-0000.TextGrid\n",
      "  warnings.warn(f\"Final MFA file not found: {final_mfa_path}\")\n"
     ]
    }
   ],
   "source": [
    "files = os.listdir(RESULT_DIR)\n",
    "files = [f for f in files if f.endswith(\"final.json\")]\n",
    "\n",
    "# get ids from the first part of the filename separated by \"_\"\n",
    "file_ids = [f.split(\"_\")[0] for f in files]\n",
    "\n",
    "samples = [SampleResult.load_by_id(RESULT_DIR, file_id) for file_id in file_ids]"
   ]
  },
  {
   "cell_type": "markdown",
   "id": "4698008e",
   "metadata": {},
   "source": [
    "# Evaluation Parameters"
   ]
  },
  {
   "cell_type": "code",
   "execution_count": 4,
   "id": "dbc038b4",
   "metadata": {},
   "outputs": [],
   "source": [
    "ALIGNMENT_SEQUENCE = \"mfa\"\n",
    "TEMPORAL_ALIGNMENT_TOLERANCE = 0.1\n",
    "ALIGNMENT_WORD_NORMALIZATION = True     # No difference"
   ]
  },
  {
   "cell_type": "code",
   "execution_count": 5,
   "id": "5e9520e3",
   "metadata": {},
   "outputs": [],
   "source": [
    "eval = pd.Series()\n",
    "eval[\"num_samples\"] = len(samples)\n",
    "eval[\"alignment_sequence\"] = ALIGNMENT_SEQUENCE\n",
    "eval[\"alignment_word_normalization\"] = ALIGNMENT_WORD_NORMALIZATION\n",
    "eval[\"temporal_alignment_tolerance\"] = TEMPORAL_ALIGNMENT_TOLERANCE"
   ]
  },
  {
   "cell_type": "code",
   "execution_count": 6,
   "id": "62a7c71b",
   "metadata": {},
   "outputs": [],
   "source": [
    "for sample in samples:\n",
    "    try:\n",
    "        sample.build_alignments(normalize_words=ALIGNMENT_WORD_NORMALIZATION,\n",
    "                                align_to=ALIGNMENT_SEQUENCE,\n",
    "                                temporal_tolerance=TEMPORAL_ALIGNMENT_TOLERANCE)\n",
    "    except Exception as e:\n",
    "        print(f\"Error processing sample {sample.sample_id}: {e}\")\n",
    "        continue"
   ]
  },
  {
   "cell_type": "code",
   "execution_count": 7,
   "id": "f0d0c91c",
   "metadata": {},
   "outputs": [
    {
     "data": {
      "application/vnd.microsoft.datawrangler.viewer.v0+json": {
       "columns": [
        {
         "name": "index",
         "rawType": "int64",
         "type": "integer"
        },
        {
         "name": "id",
         "rawType": "object",
         "type": "string"
        },
        {
         "name": "sample",
         "rawType": "object",
         "type": "unknown"
        },
        {
         "name": "word_count_final",
         "rawType": "int64",
         "type": "integer"
        },
        {
         "name": "word_count_baseline",
         "rawType": "int64",
         "type": "integer"
        },
        {
         "name": "word_count_transcript",
         "rawType": "int64",
         "type": "integer"
        }
       ],
       "ref": "56edaab1-f952-487c-adbf-2f80f9f541db",
       "rows": [
        [
         "0",
         "8224-274384-0001",
         "<src.eval.SampleResult.SampleResult object at 0x7f6c450caa10>",
         "275",
         "333",
         "333"
        ],
        [
         "1",
         "4446-2271-0000",
         "<src.eval.SampleResult.SampleResult object at 0x7f6c44f997d0>",
         "303",
         "394",
         "395"
        ],
        [
         "2",
         "4077-13754-0000",
         "<src.eval.SampleResult.SampleResult object at 0x7f6c44a59a50>",
         "475",
         "583",
         "585"
        ],
        [
         "3",
         "5105-28233-0000",
         "<src.eval.SampleResult.SampleResult object at 0x7f6c4494bed0>",
         "294",
         "316",
         "317"
        ],
        [
         "4",
         "908-31957-0000",
         "<src.eval.SampleResult.SampleResult object at 0x7f6c443ce410>",
         "450",
         "466",
         "472"
        ],
        [
         "5",
         "7021-79740-0000",
         "<src.eval.SampleResult.SampleResult object at 0x7f6c44312910>",
         "275",
         "314",
         "315"
        ],
        [
         "6",
         "5142-33396-0000",
         "<src.eval.SampleResult.SampleResult object at 0x7f6c379e1450>",
         "799",
         "921",
         "941"
        ],
        [
         "7",
         "672-122797-0000",
         "<src.eval.SampleResult.SampleResult object at 0x7f6c36d58450>",
         "1021",
         "1097",
         "1099"
        ],
        [
         "8",
         "6829-68771-0000",
         "<src.eval.SampleResult.SampleResult object at 0x7f6c36c5db90>",
         "560",
         "695",
         "692"
        ],
        [
         "9",
         "7021-85628-0000",
         "<src.eval.SampleResult.SampleResult object at 0x7f6c369502d0>",
         "470",
         "475",
         "477"
        ],
        [
         "10",
         "5142-36586-0000",
         "<src.eval.SampleResult.SampleResult object at 0x7f6c372f3910>",
         "40",
         "49",
         "49"
        ],
        [
         "11",
         "4992-41797-0000",
         "<src.eval.SampleResult.SampleResult object at 0x7f6c366ae690>",
         "405",
         "471",
         "472"
        ],
        [
         "12",
         "6930-81414-0000",
         "<src.eval.SampleResult.SampleResult object at 0x7f6c36523790>",
         "312",
         "377",
         "377"
        ],
        [
         "13",
         "8555-292519-0000",
         "<src.eval.SampleResult.SampleResult object at 0x7f6c36160350>",
         "282",
         "286",
         "286"
        ],
        [
         "14",
         "7021-79759-0000",
         "<src.eval.SampleResult.SampleResult object at 0x7f6c363a5510>",
         "124",
         "65",
         "122"
        ],
        [
         "15",
         "1221-135767-0000",
         "<src.eval.SampleResult.SampleResult object at 0x7f6c35843290>",
         "741",
         "791",
         "808"
        ],
        [
         "16",
         "2094-142345-0000",
         "<src.eval.SampleResult.SampleResult object at 0x7f6c34e94b50>",
         "1055",
         "1082",
         "1159"
        ],
        [
         "17",
         "5105-28241-0000",
         "<src.eval.SampleResult.SampleResult object at 0x7f6c3517a010>",
         "466",
         "505",
         "504"
        ],
        [
         "18",
         "1284-134647-0000",
         "<src.eval.SampleResult.SampleResult object at 0x7f6c351df690>",
         "276",
         "285",
         "288"
        ],
        [
         "19",
         "7729-102255-0000",
         "<src.eval.SampleResult.SampleResult object at 0x7f6c3431ed50>",
         "881",
         "1035",
         "1049"
        ],
        [
         "20",
         "1284-1181-0000",
         "<src.eval.SampleResult.SampleResult object at 0x7f6c34482750>",
         "379",
         "453",
         "453"
        ],
        [
         "21",
         "1320-122617-0000",
         "<src.eval.SampleResult.SampleResult object at 0x7f6c33780b90>",
         "963",
         "1108",
         "1108"
        ],
        [
         "22",
         "4077-13751-0000",
         "<src.eval.SampleResult.SampleResult object at 0x7f6c33733250>",
         "574",
         "684",
         "711"
        ],
        [
         "23",
         "1995-1836-0001",
         "<src.eval.SampleResult.SampleResult object at 0x7f6c34065450>",
         "133",
         "129",
         "129"
        ],
        [
         "24",
         "7127-75947-0000",
         "<src.eval.SampleResult.SampleResult object at 0x7f6c330bdf10>",
         "686",
         "656",
         "661"
        ],
        [
         "25",
         "2961-960-0000",
         "<src.eval.SampleResult.SampleResult object at 0x7f6c32b4ee50>",
         "496",
         "635",
         "640"
        ],
        [
         "26",
         "3570-5695-0000",
         "<src.eval.SampleResult.SampleResult object at 0x7f6c32c30dd0>",
         "417",
         "459",
         "459"
        ],
        [
         "27",
         "2300-131720-0000",
         "<src.eval.SampleResult.SampleResult object at 0x7f6c31d00dd0>",
         "1133",
         "1211",
         "1221"
        ],
        [
         "28",
         "6930-75918-0000",
         "<src.eval.SampleResult.SampleResult object at 0x7f6c3239d590>",
         "391",
         "477",
         "479"
        ],
        [
         "29",
         "5105-28240-0000",
         "<src.eval.SampleResult.SampleResult object at 0x7f6c31b35490>",
         "430",
         "470",
         "468"
        ],
        [
         "30",
         "4992-23283-0000",
         "<src.eval.SampleResult.SampleResult object at 0x7f6c31839c90>",
         "372",
         "391",
         "391"
        ],
        [
         "31",
         "8555-284449-0000",
         "<src.eval.SampleResult.SampleResult object at 0x7f6c31522a50>",
         "450",
         "488",
         "489"
        ],
        [
         "32",
         "2830-3979-0000",
         "<src.eval.SampleResult.SampleResult object at 0x7f6c31391f90>",
         "226",
         "264",
         "264"
        ],
        [
         "33",
         "237-126133-0000",
         "<src.eval.SampleResult.SampleResult object at 0x7f6c30fb5810>",
         "356",
         "446",
         "445"
        ],
        [
         "34",
         "6829-68769-0000",
         "<src.eval.SampleResult.SampleResult object at 0x7f6c30a25110>",
         "562",
         "738",
         "735"
        ],
        [
         "35",
         "121-121726-0000",
         "<src.eval.SampleResult.SampleResult object at 0x7f6c30e7aad0>",
         "131",
         "134",
         "135"
        ],
        [
         "36",
         "6930-76324-0001",
         "<src.eval.SampleResult.SampleResult object at 0x7f6c306965d0>",
         "339",
         "426",
         "432"
        ],
        [
         "37",
         "260-123440-0000",
         "<src.eval.SampleResult.SampleResult object at 0x7f6c305d4b10>",
         "246",
         "299",
         "301"
        ],
        [
         "38",
         "121-123852-0000",
         "<src.eval.SampleResult.SampleResult object at 0x7f6c3062d610>",
         "122",
         "116",
         "115"
        ],
        [
         "39",
         "8463-294825-0000",
         "<src.eval.SampleResult.SampleResult object at 0x7f6c302a39d0>",
         "293",
         "297",
         "296"
        ],
        [
         "40",
         "3570-5694-0000",
         "<src.eval.SampleResult.SampleResult object at 0x7f6c2fdb4910>",
         "521",
         "616",
         "614"
        ],
        [
         "41",
         "4970-29093-0000",
         "<src.eval.SampleResult.SampleResult object at 0x7f6c2f9bced0>",
         "520",
         "598",
         "600"
        ],
        [
         "42",
         "4446-2275-0000",
         "<src.eval.SampleResult.SampleResult object at 0x7f6c2f559dd0>",
         "421",
         "575",
         "576"
        ],
        [
         "43",
         "7127-75946-0000",
         "<src.eval.SampleResult.SampleResult object at 0x7f6c2f346a50>",
         "496",
         "605",
         "604"
        ],
        [
         "44",
         "5683-32866-0000",
         "<src.eval.SampleResult.SampleResult object at 0x7f6c2eec8e10>",
         "427",
         "503",
         "505"
        ],
        [
         "45",
         "8455-210777-0000",
         "<src.eval.SampleResult.SampleResult object at 0x7f6c2e4ede90>",
         "960",
         "1140",
         "1151"
        ],
        [
         "46",
         "1995-1837-0000",
         "<src.eval.SampleResult.SampleResult object at 0x7f6c2e3b1410>",
         "405",
         "504",
         "505"
        ],
        [
         "47",
         "8463-287645-0000",
         "<src.eval.SampleResult.SampleResult object at 0x7f6c2e279690>",
         "314",
         "314",
         "314"
        ],
        [
         "48",
         "1580-141084-0000",
         "<src.eval.SampleResult.SampleResult object at 0x7f6c2dbb96d0>",
         "442",
         "662",
         "691"
        ],
        [
         "49",
         "908-157963-0000",
         "<src.eval.SampleResult.SampleResult object at 0x7f6c2d76ab50>",
         "513",
         "604",
         "621"
        ]
       ],
       "shape": {
        "columns": 5,
        "rows": 83
       }
      },
      "text/html": [
       "<div>\n",
       "<style scoped>\n",
       "    .dataframe tbody tr th:only-of-type {\n",
       "        vertical-align: middle;\n",
       "    }\n",
       "\n",
       "    .dataframe tbody tr th {\n",
       "        vertical-align: top;\n",
       "    }\n",
       "\n",
       "    .dataframe thead th {\n",
       "        text-align: right;\n",
       "    }\n",
       "</style>\n",
       "<table border=\"1\" class=\"dataframe\">\n",
       "  <thead>\n",
       "    <tr style=\"text-align: right;\">\n",
       "      <th></th>\n",
       "      <th>id</th>\n",
       "      <th>sample</th>\n",
       "      <th>word_count_final</th>\n",
       "      <th>word_count_baseline</th>\n",
       "      <th>word_count_transcript</th>\n",
       "    </tr>\n",
       "  </thead>\n",
       "  <tbody>\n",
       "    <tr>\n",
       "      <th>0</th>\n",
       "      <td>8224-274384-0001</td>\n",
       "      <td>&lt;src.eval.SampleResult.SampleResult object at ...</td>\n",
       "      <td>275</td>\n",
       "      <td>333</td>\n",
       "      <td>333</td>\n",
       "    </tr>\n",
       "    <tr>\n",
       "      <th>1</th>\n",
       "      <td>4446-2271-0000</td>\n",
       "      <td>&lt;src.eval.SampleResult.SampleResult object at ...</td>\n",
       "      <td>303</td>\n",
       "      <td>394</td>\n",
       "      <td>395</td>\n",
       "    </tr>\n",
       "    <tr>\n",
       "      <th>2</th>\n",
       "      <td>4077-13754-0000</td>\n",
       "      <td>&lt;src.eval.SampleResult.SampleResult object at ...</td>\n",
       "      <td>475</td>\n",
       "      <td>583</td>\n",
       "      <td>585</td>\n",
       "    </tr>\n",
       "    <tr>\n",
       "      <th>3</th>\n",
       "      <td>5105-28233-0000</td>\n",
       "      <td>&lt;src.eval.SampleResult.SampleResult object at ...</td>\n",
       "      <td>294</td>\n",
       "      <td>316</td>\n",
       "      <td>317</td>\n",
       "    </tr>\n",
       "    <tr>\n",
       "      <th>4</th>\n",
       "      <td>908-31957-0000</td>\n",
       "      <td>&lt;src.eval.SampleResult.SampleResult object at ...</td>\n",
       "      <td>450</td>\n",
       "      <td>466</td>\n",
       "      <td>472</td>\n",
       "    </tr>\n",
       "    <tr>\n",
       "      <th>...</th>\n",
       "      <td>...</td>\n",
       "      <td>...</td>\n",
       "      <td>...</td>\n",
       "      <td>...</td>\n",
       "      <td>...</td>\n",
       "    </tr>\n",
       "    <tr>\n",
       "      <th>78</th>\n",
       "      <td>2961-961-0000</td>\n",
       "      <td>&lt;src.eval.SampleResult.SampleResult object at ...</td>\n",
       "      <td>488</td>\n",
       "      <td>514</td>\n",
       "      <td>517</td>\n",
       "    </tr>\n",
       "    <tr>\n",
       "      <th>79</th>\n",
       "      <td>4970-29095-0000</td>\n",
       "      <td>&lt;src.eval.SampleResult.SampleResult object at ...</td>\n",
       "      <td>643</td>\n",
       "      <td>654</td>\n",
       "      <td>675</td>\n",
       "    </tr>\n",
       "    <tr>\n",
       "      <th>80</th>\n",
       "      <td>3575-170457-0000</td>\n",
       "      <td>&lt;src.eval.SampleResult.SampleResult object at ...</td>\n",
       "      <td>1125</td>\n",
       "      <td>1325</td>\n",
       "      <td>1342</td>\n",
       "    </tr>\n",
       "    <tr>\n",
       "      <th>81</th>\n",
       "      <td>61-70970-0000</td>\n",
       "      <td>&lt;src.eval.SampleResult.SampleResult object at ...</td>\n",
       "      <td>531</td>\n",
       "      <td>607</td>\n",
       "      <td>628</td>\n",
       "    </tr>\n",
       "    <tr>\n",
       "      <th>82</th>\n",
       "      <td>7176-88083-0000</td>\n",
       "      <td>&lt;src.eval.SampleResult.SampleResult object at ...</td>\n",
       "      <td>503</td>\n",
       "      <td>609</td>\n",
       "      <td>610</td>\n",
       "    </tr>\n",
       "  </tbody>\n",
       "</table>\n",
       "<p>83 rows × 5 columns</p>\n",
       "</div>"
      ],
      "text/plain": [
       "                  id                                             sample  \\\n",
       "0   8224-274384-0001  <src.eval.SampleResult.SampleResult object at ...   \n",
       "1     4446-2271-0000  <src.eval.SampleResult.SampleResult object at ...   \n",
       "2    4077-13754-0000  <src.eval.SampleResult.SampleResult object at ...   \n",
       "3    5105-28233-0000  <src.eval.SampleResult.SampleResult object at ...   \n",
       "4     908-31957-0000  <src.eval.SampleResult.SampleResult object at ...   \n",
       "..               ...                                                ...   \n",
       "78     2961-961-0000  <src.eval.SampleResult.SampleResult object at ...   \n",
       "79   4970-29095-0000  <src.eval.SampleResult.SampleResult object at ...   \n",
       "80  3575-170457-0000  <src.eval.SampleResult.SampleResult object at ...   \n",
       "81     61-70970-0000  <src.eval.SampleResult.SampleResult object at ...   \n",
       "82   7176-88083-0000  <src.eval.SampleResult.SampleResult object at ...   \n",
       "\n",
       "    word_count_final  word_count_baseline  word_count_transcript  \n",
       "0                275                  333                    333  \n",
       "1                303                  394                    395  \n",
       "2                475                  583                    585  \n",
       "3                294                  316                    317  \n",
       "4                450                  466                    472  \n",
       "..               ...                  ...                    ...  \n",
       "78               488                  514                    517  \n",
       "79               643                  654                    675  \n",
       "80              1125                 1325                   1342  \n",
       "81               531                  607                    628  \n",
       "82               503                  609                    610  \n",
       "\n",
       "[83 rows x 5 columns]"
      ]
     },
     "execution_count": 7,
     "metadata": {},
     "output_type": "execute_result"
    }
   ],
   "source": [
    "samples_df = pd.DataFrame([{\n",
    "    \"id\": sample.sample_id,\n",
    "    \"sample\": sample,\n",
    "    \"word_count_final\": len(sample.final),\n",
    "    \"word_count_baseline\": len(sample.baseline),\n",
    "    \"word_count_transcript\": len(sample.transcript),\n",
    "} for sample in samples])\n",
    "samples_df"
   ]
  },
  {
   "cell_type": "code",
   "execution_count": 8,
   "id": "dfebdb9e",
   "metadata": {},
   "outputs": [],
   "source": [
    "def total_partial_words(sample: SampleResult) -> int:\n",
    "    partial_words = [len(partial.result) for partial in sample.partials]\n",
    "    return sum(partial_words)\n",
    "\n",
    "def unaligned_partial_words(sample: SampleResult) -> int:\n",
    "    unalignments = [len(alignements.unalignments) for alignements in sample.alignments]\n",
    "    return sum(unalignments)"
   ]
  },
  {
   "cell_type": "code",
   "execution_count": 9,
   "id": "ed182e0c",
   "metadata": {},
   "outputs": [],
   "source": [
    "samples_df[\"unaligned_partial_count\"] = samples_df[\"sample\"].apply(unaligned_partial_words)\n",
    "samples_df[\"partial_count\"] = samples_df[\"sample\"].apply(total_partial_words)\n",
    "\n",
    "eval[\"total_partial_count\"] = samples_df[\"partial_count\"].sum().item()\n",
    "eval[\"unaligned_partial_count\"] = samples_df[\"unaligned_partial_count\"].sum().item()"
   ]
  },
  {
   "cell_type": "markdown",
   "id": "e662058a",
   "metadata": {},
   "source": [
    "## Word Error Rate"
   ]
  },
  {
   "cell_type": "code",
   "execution_count": 10,
   "id": "459f10b6",
   "metadata": {},
   "outputs": [
    {
     "data": {
      "text/plain": [
       "0.19639879624704215"
      ]
     },
     "execution_count": 10,
     "metadata": {},
     "output_type": "execute_result"
    }
   ],
   "source": [
    "eval[\"wer\"] = np.mean([s.word_error_rate() for s in samples])\n",
    "eval[\"wer\"]"
   ]
  },
  {
   "cell_type": "code",
   "execution_count": 11,
   "id": "51585475",
   "metadata": {},
   "outputs": [
    {
     "name": "stdout",
     "output_type": "stream",
     "text": [
      "the scottish generals and commissioners affected great surprise on the appearance of the king and though they paid him all the exterior respect due to his dignity they instantly set a guard upon him under color of protection and made him in reality a prisoner they informed the english parliament of this unexpected incident and assured them that they had entered into no private treaty with the king or hath he given us any gift and the men of israel answered the men of judah and said we have ten parts in the king and we have also more right in david than ye why then did ye despise us that our advice should not be first had in bringing back our king another preacher after reproaching him to his face with his misgovernment ordered this psalm to be sung the king stood up and called for that psalm which begins with these words have mercy lord on me i pray for men would me devour the good natured audience in pity to fallen majesty showed for once greater deference to the king than to the minister and sung the psalm which the former had called for the parliament and the scots laid their proposals before the king before the settlement of terms the administration must be possessed entirely by the parliaments of both kingdoms and how incompatible that scheme with the liberty of the king is easily imagined the english it is evident had they not been previously assured of receiving the king would never have parted with so considerable a sum and while they weakened themselves by the same measure have strengthened a people with whom they must afterwards have so material an interest to discuss if any still retained rancor against him in his present condition they passed in silence while his well wishers more generous than prudent accompanied his march with tears with acclamations and with prayers for his safety his death in this conjuncture was a public misfortune\n",
      "The Scottish generals and commissioners effected great surprise on the appearance of the king and though they paid him all the exterior respect due to his dignity they instantly set a guard upon him under colour of protection. and made him a prisoner. of And the men of Israel answered the men of Judah, and said, We have ten parts in the king, and we have also more right in David than ye. Why then did ye despise us, that in bringing back our king Another preacher, after reproaching him to his face with his misgovernment ordered this psalm to be sung. the king stood up and called for that psalm which begins with these words have mercy lord on me i pray For men would me devour the good -natured audience in pity to fallen majesty showed for once greater deference to the king than to the minister And sung the psalm which the former had called for. to fallen majesty to fallen majesty to fallen majesty by the parliaments of both kingdoms and how incompatible that scheme with the liberty of the king is easily imagined. The English, it is evident, had they not been previously assured of receiving the king, would never have parted with so considerable a sum. and while they weakened themselves by the same measure have strengthened a people with whom they must have so material an interest to discuss. If any him in his present condition they passed in silence while his well -wishers more generous than prudent, accompanied his march with tears with acclamations, and prayers for his safety death in this conjuncture was a public misfortune\n"
     ]
    }
   ],
   "source": [
    "from src.helper.word_sequence import word_sequence_to_string\n",
    "print(word_sequence_to_string(samples[0]._alignment_sequence))\n",
    "print(word_sequence_to_string(samples[0].final))"
   ]
  },
  {
   "cell_type": "markdown",
   "id": "9fe03f12",
   "metadata": {},
   "source": [
    "## Word first correct\n",
    "\n",
    "The word first correct (wfc) is defined as the first correct occurence of a word."
   ]
  },
  {
   "cell_type": "code",
   "execution_count": 12,
   "id": "4c4091b0",
   "metadata": {},
   "outputs": [],
   "source": [
    "wfc = [s.word_first_corrects() for s in samples]"
   ]
  },
  {
   "cell_type": "code",
   "execution_count": 13,
   "id": "db18a175",
   "metadata": {},
   "outputs": [
    {
     "name": "stdout",
     "output_type": "stream",
     "text": [
      "None values in wfc:  796 (1.64%)\n"
     ]
    }
   ],
   "source": [
    "total_wfc = np.concat(wfc)\n",
    "wfc_latency = np.array([r[\"latency\"] for r in total_wfc if r is not None])\n",
    "none_wfc_count = len(total_wfc) - len(wfc_latency)\n",
    "print(\"None values in wfc: \", none_wfc_count, f\"({none_wfc_count / len(total_wfc) * 100:.2f}%)\")\n",
    "eval[\"wfc_none_count\"] = none_wfc_count"
   ]
  },
  {
   "cell_type": "code",
   "execution_count": 14,
   "id": "69340de7",
   "metadata": {},
   "outputs": [
    {
     "name": "stdout",
     "output_type": "stream",
     "text": [
      "Min: 0.37162623785436155\n",
      "Max: 32.498076221048834\n",
      "Mean: 2.552678695439298\n",
      "Median: 2.066158089786782\n",
      "Std: 1.6638782676908364\n",
      "P95: 5.883404127493498\n",
      "P99: 9.84970083489046\n"
     ]
    }
   ],
   "source": [
    "print(\"Min:\", np.min(wfc_latency))\n",
    "print(\"Max:\", np.max(wfc_latency))\n",
    "print(\"Mean:\", np.mean(wfc_latency))\n",
    "print(\"Median:\", np.median(wfc_latency))\n",
    "print(\"Std:\", np.std(wfc_latency))\n",
    "print(\"P95:\", np.percentile(wfc_latency, 95))\n",
    "print(\"P99:\", np.percentile(wfc_latency, 99))\n",
    "\n",
    "eval[\"wfc_latency_count\"] = len(wfc_latency)\n",
    "eval[\"wfc_latency_mean\"] = np.mean(wfc_latency).item()\n",
    "eval[\"wfc_latency_std\"] = np.std(wfc_latency).item()\n",
    "eval[\"wfc_latency_median\"] = np.median(wfc_latency).item()"
   ]
  },
  {
   "cell_type": "code",
   "execution_count": 15,
   "id": "edbcf562",
   "metadata": {},
   "outputs": [
    {
     "name": "stdout",
     "output_type": "stream",
     "text": [
      "Sample 5639-40744-0000 with huge latency {'timestep': 93, 'observation_time': 124.07807622104883, 'latency': 32.498076221048834}\n"
     ]
    }
   ],
   "source": [
    "### DEBUG\n",
    "\n",
    "for i, s_el in enumerate(wfc):\n",
    "    for el in s_el:\n",
    "        if el and el[\"latency\"] > 30:\n",
    "            sample_id = samples[i].sample_id\n",
    "            print(f\"Sample {sample_id} with huge latency {el}\")"
   ]
  },
  {
   "cell_type": "code",
   "execution_count": 16,
   "id": "5408d66e",
   "metadata": {},
   "outputs": [
    {
     "data": {
      "image/png": "[encoded data removed]",
      "text/plain": [
       "<Figure size 640x480 with 1 Axes>"
      ]
     },
     "metadata": {},
     "output_type": "display_data"
    }
   ],
   "source": [
    "plt.hist(wfc_latency,\n",
    "         bins=100,\n",
    "         range=(0, math.ceil(np.percentile(wfc_latency, 99).item())),\n",
    "         )\n",
    "plt.xlabel(\"Latency (s)\")\n",
    "plt.ylabel(\"Count\")\n",
    "plt.title(f\"Word First Correct (WFC) Latency Distribution, {ALIGNMENT_SEQUENCE} alignment\")\n",
    "plt.grid()"
   ]
  },
  {
   "cell_type": "markdown",
   "id": "671edb42",
   "metadata": {},
   "source": [
    "## Word first final\n",
    "\n",
    "The word first final (wff) is defined as the first occurence after which a word will never change to a different prediction."
   ]
  },
  {
   "cell_type": "code",
   "execution_count": 17,
   "id": "40cff5b6",
   "metadata": {},
   "outputs": [],
   "source": [
    "wff = [s.word_first_finals() for s in samples]"
   ]
  },
  {
   "cell_type": "code",
   "execution_count": 18,
   "id": "4ccad6c3",
   "metadata": {},
   "outputs": [
    {
     "name": "stdout",
     "output_type": "stream",
     "text": [
      "None values in wff:  796 (1.64%)\n"
     ]
    }
   ],
   "source": [
    "total_wff = np.concat(wff)\n",
    "wff_latency = np.array([r[\"latency\"] for r in total_wff if r is not None])\n",
    "none_wff_count = len(total_wff) - len(wff_latency)\n",
    "print(\"None values in wff: \", none_wff_count, f\"({none_wff_count / len(total_wff) * 100:.2f}%)\")\n",
    "eval[\"wff_none_count\"] = none_wff_count"
   ]
  },
  {
   "cell_type": "code",
   "execution_count": 19,
   "id": "c9c2ae9f",
   "metadata": {},
   "outputs": [
    {
     "name": "stdout",
     "output_type": "stream",
     "text": [
      "Min: 0.37162623785436155\n",
      "Max: 147.36444377034903\n",
      "Mean: 8.631393475845092\n",
      "Median: 6.16173594884574\n",
      "Std: 9.670751033639096\n",
      "P95: 18.856991888765236\n",
      "P99: 30.33392829632909\n"
     ]
    }
   ],
   "source": [
    "print(\"Min:\", np.min(wff_latency))\n",
    "print(\"Max:\", np.max(wff_latency))\n",
    "print(\"Mean:\", np.mean(wff_latency))\n",
    "print(\"Median:\", np.median(wff_latency))\n",
    "print(\"Std:\", np.std(wff_latency))\n",
    "print(\"P95:\", np.percentile(wff_latency, 95))\n",
    "print(\"P99:\", np.percentile(wff_latency, 99))\n",
    "\n",
    "eval[\"wff_latency_count\"] = len(wff_latency)\n",
    "eval[\"wff_latency_mean\"] = np.mean(wff_latency).item()\n",
    "eval[\"wff_latency_std\"] = np.std(wff_latency).item()\n",
    "eval[\"wff_latency_median\"] = np.median(wff_latency).item()"
   ]
  },
  {
   "cell_type": "code",
   "execution_count": 20,
   "id": "c98965ea",
   "metadata": {},
   "outputs": [
    {
     "data": {
      "image/png": "[encoded data removed]",
      "text/plain": [
       "<Figure size 640x480 with 1 Axes>"
      ]
     },
     "metadata": {},
     "output_type": "display_data"
    }
   ],
   "source": [
    "plt.hist(wff_latency, bins=100, range=(math.floor(np.percentile(wff_latency, 1)), math.ceil(np.percentile(wff_latency, 99).item())))\n",
    "plt.xlabel(\"Latency (s)\")\n",
    "plt.ylabel(\"Count\")\n",
    "plt.title(f\"Word First Final (WFF) Latency Distribution, {ALIGNMENT_SEQUENCE} alignment\")\n",
    "plt.grid()"
   ]
  },
  {
   "cell_type": "code",
   "execution_count": 21,
   "id": "f511f425",
   "metadata": {},
   "outputs": [
    {
     "data": {
      "application/vnd.microsoft.datawrangler.viewer.v0+json": {
       "columns": [
        {
         "name": "index",
         "rawType": "object",
         "type": "string"
        },
        {
         "name": "0",
         "rawType": "object",
         "type": "unknown"
        }
       ],
       "ref": "ed983677-4eed-4b81-827c-96a94426b6b0",
       "rows": [
        [
         "num_samples",
         "83"
        ],
        [
         "alignment_sequence",
         "mfa"
        ],
        [
         "alignment_word_normalization",
         "True"
        ],
        [
         "temporal_alignment_tolerance",
         "0.1"
        ],
        [
         "total_partial_count",
         "964777"
        ],
        [
         "unaligned_partial_count",
         "3127"
        ],
        [
         "wer",
         "0.19639879624704215"
        ],
        [
         "wfc_none_count",
         "796"
        ],
        [
         "wfc_latency_count",
         "47682"
        ],
        [
         "wfc_latency_mean",
         "2.552678695439298"
        ],
        [
         "wfc_latency_std",
         "1.6638782676908364"
        ],
        [
         "wfc_latency_median",
         "2.066158089786782"
        ],
        [
         "wff_none_count",
         "796"
        ],
        [
         "wff_latency_count",
         "47682"
        ],
        [
         "wff_latency_mean",
         "8.631393475845092"
        ],
        [
         "wff_latency_std",
         "9.670751033639096"
        ],
        [
         "wff_latency_median",
         "6.16173594884574"
        ]
       ],
       "shape": {
        "columns": 1,
        "rows": 17
       }
      },
      "text/plain": [
       "num_samples                           83\n",
       "alignment_sequence                   mfa\n",
       "alignment_word_normalization        True\n",
       "temporal_alignment_tolerance         0.1\n",
       "total_partial_count               964777\n",
       "unaligned_partial_count             3127\n",
       "wer                             0.196399\n",
       "wfc_none_count                       796\n",
       "wfc_latency_count                  47682\n",
       "wfc_latency_mean                2.552679\n",
       "wfc_latency_std                 1.663878\n",
       "wfc_latency_median              2.066158\n",
       "wff_none_count                       796\n",
       "wff_latency_count                  47682\n",
       "wff_latency_mean                8.631393\n",
       "wff_latency_std                 9.670751\n",
       "wff_latency_median              6.161736\n",
       "dtype: object"
      ]
     },
     "execution_count": 21,
     "metadata": {},
     "output_type": "execute_result"
    }
   ],
   "source": [
    "eval"
   ]
  }
 ],
 "metadata": {
  "kernelspec": {
   "display_name": "asr",
   "language": "python",
   "name": "python3"
  },
  "language_info": {
   "codemirror_mode": {
    "name": "ipython",
    "version": 3
   },
   "file_extension": ".py",
   "mimetype": "text/x-python",
   "name": "python",
   "nbconvert_exporter": "python",
   "pygments_lexer": "ipython3",
   "version": "3.11.0"
  }
 },
 "nbformat": 4,
 "nbformat_minor": 5
}
