{
 "cells": [
  {
   "cell_type": "markdown",
   "id": "ad09a98b",
   "metadata": {},
   "source": [
    "# Latency evaluation"
   ]
  },
  {
   "cell_type": "code",
   "execution_count": 1,
   "id": "14fb23c8",
   "metadata": {},
   "outputs": [],
   "source": [
    "RESULT_DIR = \"../out/2025-05-05_13-29-23_librispeech-pc-test-clean_large-v3-turbo\"\n",
    "RESULT_DIR = \"../out/2025-07-29_17-19-11_librispeech-pc-test-clean_assemblyai\""
   ]
  },
  {
   "cell_type": "code",
   "execution_count": 2,
   "id": "f1f279a4",
   "metadata": {},
   "outputs": [],
   "source": [
    "import os\n",
    "import sys\n",
    "sys.path.append(\"..\")\n",
    "\n",
    "import math\n",
    "import numpy as np\n",
    "import matplotlib.pyplot as plt\n",
    "import pandas as pd\n",
    "\n",
    "from src.eval.SampleResult import SampleResult"
   ]
  },
  {
   "cell_type": "code",
   "execution_count": 3,
   "id": "75316dd6",
   "metadata": {},
   "outputs": [
    {
     "name": "stderr",
     "output_type": "stream",
     "text": [
      "/home/niko/Code/streaming-asr-evaluation/notebooks/../src/eval/SampleResult.py:158: UserWarning: Final MFA file not found: ../out/2025-07-29_17-19-11_librispeech-pc-test-clean_assemblyai/mfa/8224-274384-0001/8224-274384-0001.TextGrid\n",
      "  warnings.warn(f\"Final MFA file not found: {final_mfa_path}\")\n",
      "/home/niko/Code/streaming-asr-evaluation/notebooks/../src/eval/SampleResult.py:158: UserWarning: Final MFA file not found: ../out/2025-07-29_17-19-11_librispeech-pc-test-clean_assemblyai/mfa/4446-2271-0000/4446-2271-0000.TextGrid\n",
      "  warnings.warn(f\"Final MFA file not found: {final_mfa_path}\")\n",
      "/home/niko/Code/streaming-asr-evaluation/notebooks/../src/eval/SampleResult.py:158: UserWarning: Final MFA file not found: ../out/2025-07-29_17-19-11_librispeech-pc-test-clean_assemblyai/mfa/4077-13754-0000/4077-13754-0000.TextGrid\n",
      "  warnings.warn(f\"Final MFA file not found: {final_mfa_path}\")\n",
      "/home/niko/Code/streaming-asr-evaluation/notebooks/../src/eval/SampleResult.py:158: UserWarning: Final MFA file not found: ../out/2025-07-29_17-19-11_librispeech-pc-test-clean_assemblyai/mfa/5105-28233-0000/5105-28233-0000.TextGrid\n",
      "  warnings.warn(f\"Final MFA file not found: {final_mfa_path}\")\n",
      "/home/niko/Code/streaming-asr-evaluation/notebooks/../src/eval/SampleResult.py:158: UserWarning: Final MFA file not found: ../out/2025-07-29_17-19-11_librispeech-pc-test-clean_assemblyai/mfa/908-31957-0000/908-31957-0000.TextGrid\n",
      "  warnings.warn(f\"Final MFA file not found: {final_mfa_path}\")\n",
      "/home/niko/Code/streaming-asr-evaluation/notebooks/../src/eval/SampleResult.py:158: UserWarning: Final MFA file not found: ../out/2025-07-29_17-19-11_librispeech-pc-test-clean_assemblyai/mfa/7021-79740-0000/7021-79740-0000.TextGrid\n",
      "  warnings.warn(f\"Final MFA file not found: {final_mfa_path}\")\n",
      "/home/niko/Code/streaming-asr-evaluation/notebooks/../src/eval/SampleResult.py:158: UserWarning: Final MFA file not found: ../out/2025-07-29_17-19-11_librispeech-pc-test-clean_assemblyai/mfa/5142-33396-0000/5142-33396-0000.TextGrid\n",
      "  warnings.warn(f\"Final MFA file not found: {final_mfa_path}\")\n",
      "/home/niko/Code/streaming-asr-evaluation/notebooks/../src/eval/SampleResult.py:158: UserWarning: Final MFA file not found: ../out/2025-07-29_17-19-11_librispeech-pc-test-clean_assemblyai/mfa/672-122797-0000/672-122797-0000.TextGrid\n",
      "  warnings.warn(f\"Final MFA file not found: {final_mfa_path}\")\n",
      "/home/niko/Code/streaming-asr-evaluation/notebooks/../src/eval/SampleResult.py:158: UserWarning: Final MFA file not found: ../out/2025-07-29_17-19-11_librispeech-pc-test-clean_assemblyai/mfa/6829-68771-0000/6829-68771-0000.TextGrid\n",
      "  warnings.warn(f\"Final MFA file not found: {final_mfa_path}\")\n",
      "/home/niko/Code/streaming-asr-evaluation/notebooks/../src/eval/SampleResult.py:158: UserWarning: Final MFA file not found: ../out/2025-07-29_17-19-11_librispeech-pc-test-clean_assemblyai/mfa/7021-85628-0000/7021-85628-0000.TextGrid\n",
      "  warnings.warn(f\"Final MFA file not found: {final_mfa_path}\")\n",
      "/home/niko/Code/streaming-asr-evaluation/notebooks/../src/eval/SampleResult.py:158: UserWarning: Final MFA file not found: ../out/2025-07-29_17-19-11_librispeech-pc-test-clean_assemblyai/mfa/5142-36586-0000/5142-36586-0000.TextGrid\n",
      "  warnings.warn(f\"Final MFA file not found: {final_mfa_path}\")\n",
      "/home/niko/Code/streaming-asr-evaluation/notebooks/../src/eval/SampleResult.py:158: UserWarning: Final MFA file not found: ../out/2025-07-29_17-19-11_librispeech-pc-test-clean_assemblyai/mfa/4992-41797-0000/4992-41797-0000.TextGrid\n",
      "  warnings.warn(f\"Final MFA file not found: {final_mfa_path}\")\n",
      "/home/niko/Code/streaming-asr-evaluation/notebooks/../src/eval/SampleResult.py:158: UserWarning: Final MFA file not found: ../out/2025-07-29_17-19-11_librispeech-pc-test-clean_assemblyai/mfa/6930-81414-0000/6930-81414-0000.TextGrid\n",
      "  warnings.warn(f\"Final MFA file not found: {final_mfa_path}\")\n",
      "/home/niko/Code/streaming-asr-evaluation/notebooks/../src/eval/SampleResult.py:158: UserWarning: Final MFA file not found: ../out/2025-07-29_17-19-11_librispeech-pc-test-clean_assemblyai/mfa/8555-292519-0000/8555-292519-0000.TextGrid\n",
      "  warnings.warn(f\"Final MFA file not found: {final_mfa_path}\")\n",
      "/home/niko/Code/streaming-asr-evaluation/notebooks/../src/eval/SampleResult.py:158: UserWarning: Final MFA file not found: ../out/2025-07-29_17-19-11_librispeech-pc-test-clean_assemblyai/mfa/7021-79759-0000/7021-79759-0000.TextGrid\n",
      "  warnings.warn(f\"Final MFA file not found: {final_mfa_path}\")\n",
      "/home/niko/Code/streaming-asr-evaluation/notebooks/../src/eval/SampleResult.py:158: UserWarning: Final MFA file not found: ../out/2025-07-29_17-19-11_librispeech-pc-test-clean_assemblyai/mfa/1221-135767-0000/1221-135767-0000.TextGrid\n",
      "  warnings.warn(f\"Final MFA file not found: {final_mfa_path}\")\n",
      "/home/niko/Code/streaming-asr-evaluation/notebooks/../src/eval/SampleResult.py:158: UserWarning: Final MFA file not found: ../out/2025-07-29_17-19-11_librispeech-pc-test-clean_assemblyai/mfa/2094-142345-0000/2094-142345-0000.TextGrid\n",
      "  warnings.warn(f\"Final MFA file not found: {final_mfa_path}\")\n",
      "/home/niko/Code/streaming-asr-evaluation/notebooks/../src/eval/SampleResult.py:158: UserWarning: Final MFA file not found: ../out/2025-07-29_17-19-11_librispeech-pc-test-clean_assemblyai/mfa/5105-28241-0000/5105-28241-0000.TextGrid\n",
      "  warnings.warn(f\"Final MFA file not found: {final_mfa_path}\")\n",
      "/home/niko/Code/streaming-asr-evaluation/notebooks/../src/eval/SampleResult.py:158: UserWarning: Final MFA file not found: ../out/2025-07-29_17-19-11_librispeech-pc-test-clean_assemblyai/mfa/1284-134647-0000/1284-134647-0000.TextGrid\n",
      "  warnings.warn(f\"Final MFA file not found: {final_mfa_path}\")\n",
      "/home/niko/Code/streaming-asr-evaluation/notebooks/../src/eval/SampleResult.py:158: UserWarning: Final MFA file not found: ../out/2025-07-29_17-19-11_librispeech-pc-test-clean_assemblyai/mfa/7729-102255-0000/7729-102255-0000.TextGrid\n",
      "  warnings.warn(f\"Final MFA file not found: {final_mfa_path}\")\n",
      "/home/niko/Code/streaming-asr-evaluation/notebooks/../src/eval/SampleResult.py:158: UserWarning: Final MFA file not found: ../out/2025-07-29_17-19-11_librispeech-pc-test-clean_assemblyai/mfa/1284-1181-0000/1284-1181-0000.TextGrid\n",
      "  warnings.warn(f\"Final MFA file not found: {final_mfa_path}\")\n",
      "/home/niko/Code/streaming-asr-evaluation/notebooks/../src/eval/SampleResult.py:158: UserWarning: Final MFA file not found: ../out/2025-07-29_17-19-11_librispeech-pc-test-clean_assemblyai/mfa/1320-122617-0000/1320-122617-0000.TextGrid\n",
      "  warnings.warn(f\"Final MFA file not found: {final_mfa_path}\")\n",
      "/home/niko/Code/streaming-asr-evaluation/notebooks/../src/eval/SampleResult.py:158: UserWarning: Final MFA file not found: ../out/2025-07-29_17-19-11_librispeech-pc-test-clean_assemblyai/mfa/4077-13751-0000/4077-13751-0000.TextGrid\n",
      "  warnings.warn(f\"Final MFA file not found: {final_mfa_path}\")\n",
      "/home/niko/Code/streaming-asr-evaluation/notebooks/../src/eval/SampleResult.py:158: UserWarning: Final MFA file not found: ../out/2025-07-29_17-19-11_librispeech-pc-test-clean_assemblyai/mfa/1995-1836-0001/1995-1836-0001.TextGrid\n",
      "  warnings.warn(f\"Final MFA file not found: {final_mfa_path}\")\n",
      "/home/niko/Code/streaming-asr-evaluation/notebooks/../src/eval/SampleResult.py:158: UserWarning: Final MFA file not found: ../out/2025-07-29_17-19-11_librispeech-pc-test-clean_assemblyai/mfa/7127-75947-0000/7127-75947-0000.TextGrid\n",
      "  warnings.warn(f\"Final MFA file not found: {final_mfa_path}\")\n",
      "/home/niko/Code/streaming-asr-evaluation/notebooks/../src/eval/SampleResult.py:158: UserWarning: Final MFA file not found: ../out/2025-07-29_17-19-11_librispeech-pc-test-clean_assemblyai/mfa/2961-960-0000/2961-960-0000.TextGrid\n",
      "  warnings.warn(f\"Final MFA file not found: {final_mfa_path}\")\n",
      "/home/niko/Code/streaming-asr-evaluation/notebooks/../src/eval/SampleResult.py:158: UserWarning: Final MFA file not found: ../out/2025-07-29_17-19-11_librispeech-pc-test-clean_assemblyai/mfa/3570-5695-0000/3570-5695-0000.TextGrid\n",
      "  warnings.warn(f\"Final MFA file not found: {final_mfa_path}\")\n",
      "/home/niko/Code/streaming-asr-evaluation/notebooks/../src/eval/SampleResult.py:158: UserWarning: Final MFA file not found: ../out/2025-07-29_17-19-11_librispeech-pc-test-clean_assemblyai/mfa/2300-131720-0000/2300-131720-0000.TextGrid\n",
      "  warnings.warn(f\"Final MFA file not found: {final_mfa_path}\")\n",
      "/home/niko/Code/streaming-asr-evaluation/notebooks/../src/eval/SampleResult.py:158: UserWarning: Final MFA file not found: ../out/2025-07-29_17-19-11_librispeech-pc-test-clean_assemblyai/mfa/6930-75918-0000/6930-75918-0000.TextGrid\n",
      "  warnings.warn(f\"Final MFA file not found: {final_mfa_path}\")\n",
      "/home/niko/Code/streaming-asr-evaluation/notebooks/../src/eval/SampleResult.py:158: UserWarning: Final MFA file not found: ../out/2025-07-29_17-19-11_librispeech-pc-test-clean_assemblyai/mfa/5105-28240-0000/5105-28240-0000.TextGrid\n",
      "  warnings.warn(f\"Final MFA file not found: {final_mfa_path}\")\n",
      "/home/niko/Code/streaming-asr-evaluation/notebooks/../src/eval/SampleResult.py:158: UserWarning: Final MFA file not found: ../out/2025-07-29_17-19-11_librispeech-pc-test-clean_assemblyai/mfa/4992-23283-0000/4992-23283-0000.TextGrid\n",
      "  warnings.warn(f\"Final MFA file not found: {final_mfa_path}\")\n",
      "/home/niko/Code/streaming-asr-evaluation/notebooks/../src/eval/SampleResult.py:158: UserWarning: Final MFA file not found: ../out/2025-07-29_17-19-11_librispeech-pc-test-clean_assemblyai/mfa/8555-284449-0000/8555-284449-0000.TextGrid\n",
      "  warnings.warn(f\"Final MFA file not found: {final_mfa_path}\")\n",
      "/home/niko/Code/streaming-asr-evaluation/notebooks/../src/eval/SampleResult.py:158: UserWarning: Final MFA file not found: ../out/2025-07-29_17-19-11_librispeech-pc-test-clean_assemblyai/mfa/2830-3979-0000/2830-3979-0000.TextGrid\n",
      "  warnings.warn(f\"Final MFA file not found: {final_mfa_path}\")\n",
      "/home/niko/Code/streaming-asr-evaluation/notebooks/../src/eval/SampleResult.py:158: UserWarning: Final MFA file not found: ../out/2025-07-29_17-19-11_librispeech-pc-test-clean_assemblyai/mfa/237-126133-0000/237-126133-0000.TextGrid\n",
      "  warnings.warn(f\"Final MFA file not found: {final_mfa_path}\")\n",
      "/home/niko/Code/streaming-asr-evaluation/notebooks/../src/eval/SampleResult.py:158: UserWarning: Final MFA file not found: ../out/2025-07-29_17-19-11_librispeech-pc-test-clean_assemblyai/mfa/6829-68769-0000/6829-68769-0000.TextGrid\n",
      "  warnings.warn(f\"Final MFA file not found: {final_mfa_path}\")\n",
      "/home/niko/Code/streaming-asr-evaluation/notebooks/../src/eval/SampleResult.py:158: UserWarning: Final MFA file not found: ../out/2025-07-29_17-19-11_librispeech-pc-test-clean_assemblyai/mfa/121-121726-0000/121-121726-0000.TextGrid\n",
      "  warnings.warn(f\"Final MFA file not found: {final_mfa_path}\")\n",
      "/home/niko/Code/streaming-asr-evaluation/notebooks/../src/eval/SampleResult.py:158: UserWarning: Final MFA file not found: ../out/2025-07-29_17-19-11_librispeech-pc-test-clean_assemblyai/mfa/6930-76324-0001/6930-76324-0001.TextGrid\n",
      "  warnings.warn(f\"Final MFA file not found: {final_mfa_path}\")\n",
      "/home/niko/Code/streaming-asr-evaluation/notebooks/../src/eval/SampleResult.py:158: UserWarning: Final MFA file not found: ../out/2025-07-29_17-19-11_librispeech-pc-test-clean_assemblyai/mfa/260-123440-0000/260-123440-0000.TextGrid\n",
      "  warnings.warn(f\"Final MFA file not found: {final_mfa_path}\")\n",
      "/home/niko/Code/streaming-asr-evaluation/notebooks/../src/eval/SampleResult.py:158: UserWarning: Final MFA file not found: ../out/2025-07-29_17-19-11_librispeech-pc-test-clean_assemblyai/mfa/121-123852-0000/121-123852-0000.TextGrid\n",
      "  warnings.warn(f\"Final MFA file not found: {final_mfa_path}\")\n",
      "/home/niko/Code/streaming-asr-evaluation/notebooks/../src/eval/SampleResult.py:158: UserWarning: Final MFA file not found: ../out/2025-07-29_17-19-11_librispeech-pc-test-clean_assemblyai/mfa/8463-294825-0000/8463-294825-0000.TextGrid\n",
      "  warnings.warn(f\"Final MFA file not found: {final_mfa_path}\")\n",
      "/home/niko/Code/streaming-asr-evaluation/notebooks/../src/eval/SampleResult.py:158: UserWarning: Final MFA file not found: ../out/2025-07-29_17-19-11_librispeech-pc-test-clean_assemblyai/mfa/3570-5694-0000/3570-5694-0000.TextGrid\n",
      "  warnings.warn(f\"Final MFA file not found: {final_mfa_path}\")\n",
      "/home/niko/Code/streaming-asr-evaluation/notebooks/../src/eval/SampleResult.py:158: UserWarning: Final MFA file not found: ../out/2025-07-29_17-19-11_librispeech-pc-test-clean_assemblyai/mfa/4970-29093-0000/4970-29093-0000.TextGrid\n",
      "  warnings.warn(f\"Final MFA file not found: {final_mfa_path}\")\n",
      "/home/niko/Code/streaming-asr-evaluation/notebooks/../src/eval/SampleResult.py:158: UserWarning: Final MFA file not found: ../out/2025-07-29_17-19-11_librispeech-pc-test-clean_assemblyai/mfa/4446-2275-0000/4446-2275-0000.TextGrid\n",
      "  warnings.warn(f\"Final MFA file not found: {final_mfa_path}\")\n",
      "/home/niko/Code/streaming-asr-evaluation/notebooks/../src/eval/SampleResult.py:158: UserWarning: Final MFA file not found: ../out/2025-07-29_17-19-11_librispeech-pc-test-clean_assemblyai/mfa/7127-75946-0000/7127-75946-0000.TextGrid\n",
      "  warnings.warn(f\"Final MFA file not found: {final_mfa_path}\")\n",
      "/home/niko/Code/streaming-asr-evaluation/notebooks/../src/eval/SampleResult.py:158: UserWarning: Final MFA file not found: ../out/2025-07-29_17-19-11_librispeech-pc-test-clean_assemblyai/mfa/5683-32866-0000/5683-32866-0000.TextGrid\n",
      "  warnings.warn(f\"Final MFA file not found: {final_mfa_path}\")\n",
      "/home/niko/Code/streaming-asr-evaluation/notebooks/../src/eval/SampleResult.py:158: UserWarning: Final MFA file not found: ../out/2025-07-29_17-19-11_librispeech-pc-test-clean_assemblyai/mfa/8455-210777-0000/8455-210777-0000.TextGrid\n",
      "  warnings.warn(f\"Final MFA file not found: {final_mfa_path}\")\n",
      "/home/niko/Code/streaming-asr-evaluation/notebooks/../src/eval/SampleResult.py:158: UserWarning: Final MFA file not found: ../out/2025-07-29_17-19-11_librispeech-pc-test-clean_assemblyai/mfa/1995-1837-0000/1995-1837-0000.TextGrid\n",
      "  warnings.warn(f\"Final MFA file not found: {final_mfa_path}\")\n",
      "/home/niko/Code/streaming-asr-evaluation/notebooks/../src/eval/SampleResult.py:158: UserWarning: Final MFA file not found: ../out/2025-07-29_17-19-11_librispeech-pc-test-clean_assemblyai/mfa/8463-287645-0000/8463-287645-0000.TextGrid\n",
      "  warnings.warn(f\"Final MFA file not found: {final_mfa_path}\")\n",
      "/home/niko/Code/streaming-asr-evaluation/notebooks/../src/eval/SampleResult.py:158: UserWarning: Final MFA file not found: ../out/2025-07-29_17-19-11_librispeech-pc-test-clean_assemblyai/mfa/1580-141084-0000/1580-141084-0000.TextGrid\n",
      "  warnings.warn(f\"Final MFA file not found: {final_mfa_path}\")\n",
      "/home/niko/Code/streaming-asr-evaluation/notebooks/../src/eval/SampleResult.py:158: UserWarning: Final MFA file not found: ../out/2025-07-29_17-19-11_librispeech-pc-test-clean_assemblyai/mfa/908-157963-0000/908-157963-0000.TextGrid\n",
      "  warnings.warn(f\"Final MFA file not found: {final_mfa_path}\")\n",
      "/home/niko/Code/streaming-asr-evaluation/notebooks/../src/eval/SampleResult.py:158: UserWarning: Final MFA file not found: ../out/2025-07-29_17-19-11_librispeech-pc-test-clean_assemblyai/mfa/1284-1180-0000/1284-1180-0000.TextGrid\n",
      "  warnings.warn(f\"Final MFA file not found: {final_mfa_path}\")\n",
      "/home/niko/Code/streaming-asr-evaluation/notebooks/../src/eval/SampleResult.py:158: UserWarning: Final MFA file not found: ../out/2025-07-29_17-19-11_librispeech-pc-test-clean_assemblyai/mfa/3570-5696-0000/3570-5696-0000.TextGrid\n",
      "  warnings.warn(f\"Final MFA file not found: {final_mfa_path}\")\n",
      "/home/niko/Code/streaming-asr-evaluation/notebooks/../src/eval/SampleResult.py:158: UserWarning: Final MFA file not found: ../out/2025-07-29_17-19-11_librispeech-pc-test-clean_assemblyai/mfa/4446-2273-0000/4446-2273-0000.TextGrid\n",
      "  warnings.warn(f\"Final MFA file not found: {final_mfa_path}\")\n",
      "/home/niko/Code/streaming-asr-evaluation/notebooks/../src/eval/SampleResult.py:158: UserWarning: Final MFA file not found: ../out/2025-07-29_17-19-11_librispeech-pc-test-clean_assemblyai/mfa/4507-16021-0000/4507-16021-0000.TextGrid\n",
      "  warnings.warn(f\"Final MFA file not found: {final_mfa_path}\")\n",
      "/home/niko/Code/streaming-asr-evaluation/notebooks/../src/eval/SampleResult.py:158: UserWarning: Final MFA file not found: ../out/2025-07-29_17-19-11_librispeech-pc-test-clean_assemblyai/mfa/7021-79730-0001/7021-79730-0001.TextGrid\n",
      "  warnings.warn(f\"Final MFA file not found: {final_mfa_path}\")\n",
      "/home/niko/Code/streaming-asr-evaluation/notebooks/../src/eval/SampleResult.py:158: UserWarning: Final MFA file not found: ../out/2025-07-29_17-19-11_librispeech-pc-test-clean_assemblyai/mfa/61-70968-0000/61-70968-0000.TextGrid\n",
      "  warnings.warn(f\"Final MFA file not found: {final_mfa_path}\")\n",
      "/home/niko/Code/streaming-asr-evaluation/notebooks/../src/eval/SampleResult.py:158: UserWarning: Final MFA file not found: ../out/2025-07-29_17-19-11_librispeech-pc-test-clean_assemblyai/mfa/1580-141083-0000/1580-141083-0000.TextGrid\n",
      "  warnings.warn(f\"Final MFA file not found: {final_mfa_path}\")\n",
      "/home/niko/Code/streaming-asr-evaluation/notebooks/../src/eval/SampleResult.py:158: UserWarning: Final MFA file not found: ../out/2025-07-29_17-19-11_librispeech-pc-test-clean_assemblyai/mfa/5142-36377-0000/5142-36377-0000.TextGrid\n",
      "  warnings.warn(f\"Final MFA file not found: {final_mfa_path}\")\n",
      "/home/niko/Code/streaming-asr-evaluation/notebooks/../src/eval/SampleResult.py:158: UserWarning: Final MFA file not found: ../out/2025-07-29_17-19-11_librispeech-pc-test-clean_assemblyai/mfa/5639-40744-0000/5639-40744-0000.TextGrid\n",
      "  warnings.warn(f\"Final MFA file not found: {final_mfa_path}\")\n",
      "/home/niko/Code/streaming-asr-evaluation/notebooks/../src/eval/SampleResult.py:158: UserWarning: Final MFA file not found: ../out/2025-07-29_17-19-11_librispeech-pc-test-clean_assemblyai/mfa/7176-92135-0000/7176-92135-0000.TextGrid\n",
      "  warnings.warn(f\"Final MFA file not found: {final_mfa_path}\")\n",
      "/home/niko/Code/streaming-asr-evaluation/notebooks/../src/eval/SampleResult.py:158: UserWarning: Final MFA file not found: ../out/2025-07-29_17-19-11_librispeech-pc-test-clean_assemblyai/mfa/121-123859-0000/121-123859-0000.TextGrid\n",
      "  warnings.warn(f\"Final MFA file not found: {final_mfa_path}\")\n",
      "/home/niko/Code/streaming-asr-evaluation/notebooks/../src/eval/SampleResult.py:158: UserWarning: Final MFA file not found: ../out/2025-07-29_17-19-11_librispeech-pc-test-clean_assemblyai/mfa/5683-32879-0000/5683-32879-0000.TextGrid\n",
      "  warnings.warn(f\"Final MFA file not found: {final_mfa_path}\")\n",
      "/home/niko/Code/streaming-asr-evaluation/notebooks/../src/eval/SampleResult.py:158: UserWarning: Final MFA file not found: ../out/2025-07-29_17-19-11_librispeech-pc-test-clean_assemblyai/mfa/5142-36600-0000/5142-36600-0000.TextGrid\n",
      "  warnings.warn(f\"Final MFA file not found: {final_mfa_path}\")\n",
      "/home/niko/Code/streaming-asr-evaluation/notebooks/../src/eval/SampleResult.py:158: UserWarning: Final MFA file not found: ../out/2025-07-29_17-19-11_librispeech-pc-test-clean_assemblyai/mfa/8555-284447-0000/8555-284447-0000.TextGrid\n",
      "  warnings.warn(f\"Final MFA file not found: {final_mfa_path}\")\n",
      "/home/niko/Code/streaming-asr-evaluation/notebooks/../src/eval/SampleResult.py:158: UserWarning: Final MFA file not found: ../out/2025-07-29_17-19-11_librispeech-pc-test-clean_assemblyai/mfa/1995-1826-0000/1995-1826-0000.TextGrid\n",
      "  warnings.warn(f\"Final MFA file not found: {final_mfa_path}\")\n",
      "/home/niko/Code/streaming-asr-evaluation/notebooks/../src/eval/SampleResult.py:158: UserWarning: Final MFA file not found: ../out/2025-07-29_17-19-11_librispeech-pc-test-clean_assemblyai/mfa/1221-135766-0000/1221-135766-0000.TextGrid\n",
      "  warnings.warn(f\"Final MFA file not found: {final_mfa_path}\")\n",
      "/home/niko/Code/streaming-asr-evaluation/notebooks/../src/eval/SampleResult.py:158: UserWarning: Final MFA file not found: ../out/2025-07-29_17-19-11_librispeech-pc-test-clean_assemblyai/mfa/3729-6852-0000/3729-6852-0000.TextGrid\n",
      "  warnings.warn(f\"Final MFA file not found: {final_mfa_path}\")\n",
      "/home/niko/Code/streaming-asr-evaluation/notebooks/../src/eval/SampleResult.py:158: UserWarning: Final MFA file not found: ../out/2025-07-29_17-19-11_librispeech-pc-test-clean_assemblyai/mfa/8463-294828-0000/8463-294828-0000.TextGrid\n",
      "  warnings.warn(f\"Final MFA file not found: {final_mfa_path}\")\n",
      "/home/niko/Code/streaming-asr-evaluation/notebooks/../src/eval/SampleResult.py:158: UserWarning: Final MFA file not found: ../out/2025-07-29_17-19-11_librispeech-pc-test-clean_assemblyai/mfa/260-123288-0000/260-123288-0000.TextGrid\n",
      "  warnings.warn(f\"Final MFA file not found: {final_mfa_path}\")\n",
      "/home/niko/Code/streaming-asr-evaluation/notebooks/../src/eval/SampleResult.py:158: UserWarning: Final MFA file not found: ../out/2025-07-29_17-19-11_librispeech-pc-test-clean_assemblyai/mfa/8224-274381-0000/8224-274381-0000.TextGrid\n",
      "  warnings.warn(f\"Final MFA file not found: {final_mfa_path}\")\n",
      "/home/niko/Code/streaming-asr-evaluation/notebooks/../src/eval/SampleResult.py:158: UserWarning: Final MFA file not found: ../out/2025-07-29_17-19-11_librispeech-pc-test-clean_assemblyai/mfa/1188-133604-0000/1188-133604-0000.TextGrid\n",
      "  warnings.warn(f\"Final MFA file not found: {final_mfa_path}\")\n",
      "/home/niko/Code/streaming-asr-evaluation/notebooks/../src/eval/SampleResult.py:158: UserWarning: Final MFA file not found: ../out/2025-07-29_17-19-11_librispeech-pc-test-clean_assemblyai/mfa/8230-279154-0000/8230-279154-0000.TextGrid\n",
      "  warnings.warn(f\"Final MFA file not found: {final_mfa_path}\")\n",
      "/home/niko/Code/streaming-asr-evaluation/notebooks/../src/eval/SampleResult.py:158: UserWarning: Final MFA file not found: ../out/2025-07-29_17-19-11_librispeech-pc-test-clean_assemblyai/mfa/1320-122612-0000/1320-122612-0000.TextGrid\n",
      "  warnings.warn(f\"Final MFA file not found: {final_mfa_path}\")\n",
      "/home/niko/Code/streaming-asr-evaluation/notebooks/../src/eval/SampleResult.py:158: UserWarning: Final MFA file not found: ../out/2025-07-29_17-19-11_librispeech-pc-test-clean_assemblyai/mfa/2830-3980-0000/2830-3980-0000.TextGrid\n",
      "  warnings.warn(f\"Final MFA file not found: {final_mfa_path}\")\n",
      "/home/niko/Code/streaming-asr-evaluation/notebooks/../src/eval/SampleResult.py:158: UserWarning: Final MFA file not found: ../out/2025-07-29_17-19-11_librispeech-pc-test-clean_assemblyai/mfa/4992-41806-0000/4992-41806-0000.TextGrid\n",
      "  warnings.warn(f\"Final MFA file not found: {final_mfa_path}\")\n",
      "/home/niko/Code/streaming-asr-evaluation/notebooks/../src/eval/SampleResult.py:158: UserWarning: Final MFA file not found: ../out/2025-07-29_17-19-11_librispeech-pc-test-clean_assemblyai/mfa/5683-32865-0000/5683-32865-0000.TextGrid\n",
      "  warnings.warn(f\"Final MFA file not found: {final_mfa_path}\")\n",
      "/home/niko/Code/streaming-asr-evaluation/notebooks/../src/eval/SampleResult.py:158: UserWarning: Final MFA file not found: ../out/2025-07-29_17-19-11_librispeech-pc-test-clean_assemblyai/mfa/121-127105-0000/121-127105-0000.TextGrid\n",
      "  warnings.warn(f\"Final MFA file not found: {final_mfa_path}\")\n",
      "/home/niko/Code/streaming-asr-evaluation/notebooks/../src/eval/SampleResult.py:158: UserWarning: Final MFA file not found: ../out/2025-07-29_17-19-11_librispeech-pc-test-clean_assemblyai/mfa/260-123286-0000/260-123286-0000.TextGrid\n",
      "  warnings.warn(f\"Final MFA file not found: {final_mfa_path}\")\n",
      "/home/niko/Code/streaming-asr-evaluation/notebooks/../src/eval/SampleResult.py:158: UserWarning: Final MFA file not found: ../out/2025-07-29_17-19-11_librispeech-pc-test-clean_assemblyai/mfa/2961-961-0000/2961-961-0000.TextGrid\n",
      "  warnings.warn(f\"Final MFA file not found: {final_mfa_path}\")\n",
      "/home/niko/Code/streaming-asr-evaluation/notebooks/../src/eval/SampleResult.py:158: UserWarning: Final MFA file not found: ../out/2025-07-29_17-19-11_librispeech-pc-test-clean_assemblyai/mfa/4970-29095-0000/4970-29095-0000.TextGrid\n",
      "  warnings.warn(f\"Final MFA file not found: {final_mfa_path}\")\n",
      "/home/niko/Code/streaming-asr-evaluation/notebooks/../src/eval/SampleResult.py:158: UserWarning: Final MFA file not found: ../out/2025-07-29_17-19-11_librispeech-pc-test-clean_assemblyai/mfa/3575-170457-0000/3575-170457-0000.TextGrid\n",
      "  warnings.warn(f\"Final MFA file not found: {final_mfa_path}\")\n",
      "/home/niko/Code/streaming-asr-evaluation/notebooks/../src/eval/SampleResult.py:158: UserWarning: Final MFA file not found: ../out/2025-07-29_17-19-11_librispeech-pc-test-clean_assemblyai/mfa/61-70970-0000/61-70970-0000.TextGrid\n",
      "  warnings.warn(f\"Final MFA file not found: {final_mfa_path}\")\n",
      "/home/niko/Code/streaming-asr-evaluation/notebooks/../src/eval/SampleResult.py:158: UserWarning: Final MFA file not found: ../out/2025-07-29_17-19-11_librispeech-pc-test-clean_assemblyai/mfa/7176-88083-0000/7176-88083-0000.TextGrid\n",
      "  warnings.warn(f\"Final MFA file not found: {final_mfa_path}\")\n"
     ]
    }
   ],
   "source": [
    "files = os.listdir(RESULT_DIR)\n",
    "files = [f for f in files if f.endswith(\"final.json\")]\n",
    "\n",
    "# get ids from the first part of the filename separated by \"_\"\n",
    "file_ids = [f.split(\"_\")[0] for f in files]\n",
    "\n",
    "samples = [SampleResult.load_by_id(RESULT_DIR, file_id) for file_id in file_ids]"
   ]
  },
  {
   "cell_type": "markdown",
   "id": "4698008e",
   "metadata": {},
   "source": [
    "# Evaluation Parameters"
   ]
  },
  {
   "cell_type": "code",
   "execution_count": 4,
   "id": "dbc038b4",
   "metadata": {},
   "outputs": [],
   "source": [
    "ALIGNMENT_SEQUENCE = \"final\"\n",
    "TEMPORAL_ALIGNMENT_TOLERANCE = 0.1\n",
    "ALIGNMENT_WORD_NORMALIZATION = True     # No difference"
   ]
  },
  {
   "cell_type": "code",
   "execution_count": 5,
   "id": "5e9520e3",
   "metadata": {},
   "outputs": [],
   "source": [
    "eval = pd.Series()\n",
    "eval[\"num_samples\"] = len(samples)\n",
    "eval[\"alignment_sequence\"] = ALIGNMENT_SEQUENCE\n",
    "eval[\"alignment_word_normalization\"] = ALIGNMENT_WORD_NORMALIZATION\n",
    "eval[\"temporal_alignment_tolerance\"] = TEMPORAL_ALIGNMENT_TOLERANCE"
   ]
  },
  {
   "cell_type": "code",
   "execution_count": 6,
   "id": "62a7c71b",
   "metadata": {},
   "outputs": [],
   "source": [
    "for sample in samples:\n",
    "    try:\n",
    "        sample.build_alignments(normalize_words=ALIGNMENT_WORD_NORMALIZATION,\n",
    "                                align_to=ALIGNMENT_SEQUENCE,\n",
    "                                temporal_tolerance=TEMPORAL_ALIGNMENT_TOLERANCE)\n",
    "    except Exception as e:\n",
    "        print(f\"Error processing sample {sample.sample_id}: {e}\")\n",
    "        continue"
   ]
  },
  {
   "cell_type": "code",
   "execution_count": 7,
   "id": "f0d0c91c",
   "metadata": {},
   "outputs": [
    {
     "data": {
      "application/vnd.microsoft.datawrangler.viewer.v0+json": {
       "columns": [
        {
         "name": "index",
         "rawType": "int64",
         "type": "integer"
        },
        {
         "name": "id",
         "rawType": "object",
         "type": "string"
        },
        {
         "name": "sample",
         "rawType": "object",
         "type": "unknown"
        },
        {
         "name": "word_count_final",
         "rawType": "int64",
         "type": "integer"
        },
        {
         "name": "word_count_baseline",
         "rawType": "int64",
         "type": "integer"
        },
        {
         "name": "word_count_transcript",
         "rawType": "int64",
         "type": "integer"
        }
       ],
       "ref": "ab1c469a-fb73-4c68-b865-13737d31b5e7",
       "rows": [
        [
         "0",
         "8224-274384-0001",
         "<src.eval.SampleResult.SampleResult object at 0x7f797138e450>",
         "333",
         "333",
         "333"
        ],
        [
         "1",
         "4446-2271-0000",
         "<src.eval.SampleResult.SampleResult object at 0x7f797119c950>",
         "394",
         "394",
         "395"
        ],
        [
         "2",
         "4077-13754-0000",
         "<src.eval.SampleResult.SampleResult object at 0x7f7970ba9450>",
         "579",
         "583",
         "585"
        ],
        [
         "3",
         "5105-28233-0000",
         "<src.eval.SampleResult.SampleResult object at 0x7f7970da0150>",
         "319",
         "316",
         "317"
        ],
        [
         "4",
         "908-31957-0000",
         "<src.eval.SampleResult.SampleResult object at 0x7f797097cb10>",
         "473",
         "466",
         "472"
        ],
        [
         "5",
         "7021-79740-0000",
         "<src.eval.SampleResult.SampleResult object at 0x7f797089d010>",
         "315",
         "314",
         "315"
        ],
        [
         "6",
         "5142-33396-0000",
         "<src.eval.SampleResult.SampleResult object at 0x7f7970324710>",
         "933",
         "921",
         "941"
        ],
        [
         "7",
         "672-122797-0000",
         "<src.eval.SampleResult.SampleResult object at 0x7f796fc215d0>",
         "1095",
         "1097",
         "1099"
        ],
        [
         "8",
         "6829-68771-0000",
         "<src.eval.SampleResult.SampleResult object at 0x7f796f904810>",
         "692",
         "695",
         "692"
        ],
        [
         "9",
         "7021-85628-0000",
         "<src.eval.SampleResult.SampleResult object at 0x7f796fa6a250>",
         "474",
         "475",
         "477"
        ],
        [
         "10",
         "5142-36586-0000",
         "<src.eval.SampleResult.SampleResult object at 0x7f796fdd5750>",
         "49",
         "49",
         "49"
        ],
        [
         "11",
         "4992-41797-0000",
         "<src.eval.SampleResult.SampleResult object at 0x7f796f612790>",
         "470",
         "471",
         "472"
        ],
        [
         "12",
         "6930-81414-0000",
         "<src.eval.SampleResult.SampleResult object at 0x7f796f3b9890>",
         "377",
         "377",
         "377"
        ],
        [
         "13",
         "8555-292519-0000",
         "<src.eval.SampleResult.SampleResult object at 0x7f796f27b3d0>",
         "286",
         "286",
         "286"
        ],
        [
         "14",
         "7021-79759-0000",
         "<src.eval.SampleResult.SampleResult object at 0x7f796f2af050>",
         "121",
         "65",
         "122"
        ],
        [
         "15",
         "1221-135767-0000",
         "<src.eval.SampleResult.SampleResult object at 0x7f796e8bb190>",
         "807",
         "791",
         "808"
        ],
        [
         "16",
         "2094-142345-0000",
         "<src.eval.SampleResult.SampleResult object at 0x7f796e279b90>",
         "1158",
         "1082",
         "1159"
        ],
        [
         "17",
         "5105-28241-0000",
         "<src.eval.SampleResult.SampleResult object at 0x7f796e1390d0>",
         "503",
         "505",
         "504"
        ],
        [
         "18",
         "1284-134647-0000",
         "<src.eval.SampleResult.SampleResult object at 0x7f796e0b9410>",
         "287",
         "285",
         "288"
        ],
        [
         "19",
         "7729-102255-0000",
         "<src.eval.SampleResult.SampleResult object at 0x7f796d2ec050>",
         "1040",
         "1035",
         "1049"
        ],
        [
         "20",
         "1284-1181-0000",
         "<src.eval.SampleResult.SampleResult object at 0x7f796d8b3c90>",
         "453",
         "453",
         "453"
        ],
        [
         "21",
         "1320-122617-0000",
         "<src.eval.SampleResult.SampleResult object at 0x7f796cad3ed0>",
         "1109",
         "1108",
         "1108"
        ],
        [
         "22",
         "4077-13751-0000",
         "<src.eval.SampleResult.SampleResult object at 0x7f796c8ed590>",
         "703",
         "684",
         "711"
        ],
        [
         "23",
         "1995-1836-0001",
         "<src.eval.SampleResult.SampleResult object at 0x7f796d9b0f50>",
         "129",
         "129",
         "129"
        ],
        [
         "24",
         "7127-75947-0000",
         "<src.eval.SampleResult.SampleResult object at 0x7f796c41d890>",
         "653",
         "656",
         "661"
        ],
        [
         "25",
         "2961-960-0000",
         "<src.eval.SampleResult.SampleResult object at 0x7f796be68590>",
         "639",
         "635",
         "640"
        ],
        [
         "26",
         "3570-5695-0000",
         "<src.eval.SampleResult.SampleResult object at 0x7f796b6d61d0>",
         "457",
         "459",
         "459"
        ],
        [
         "27",
         "2300-131720-0000",
         "<src.eval.SampleResult.SampleResult object at 0x7f796ad6a510>",
         "1208",
         "1211",
         "1221"
        ],
        [
         "28",
         "6930-75918-0000",
         "<src.eval.SampleResult.SampleResult object at 0x7f796b19c050>",
         "478",
         "477",
         "479"
        ],
        [
         "29",
         "5105-28240-0000",
         "<src.eval.SampleResult.SampleResult object at 0x7f796aabc510>",
         "470",
         "470",
         "468"
        ],
        [
         "30",
         "4992-23283-0000",
         "<src.eval.SampleResult.SampleResult object at 0x7f796a99cf50>",
         "391",
         "391",
         "391"
        ],
        [
         "31",
         "8555-284449-0000",
         "<src.eval.SampleResult.SampleResult object at 0x7f796a6bc6d0>",
         "489",
         "488",
         "489"
        ],
        [
         "32",
         "2830-3979-0000",
         "<src.eval.SampleResult.SampleResult object at 0x7f796a6f3550>",
         "263",
         "264",
         "264"
        ],
        [
         "33",
         "237-126133-0000",
         "<src.eval.SampleResult.SampleResult object at 0x7f796a38cf90>",
         "442",
         "446",
         "445"
        ],
        [
         "34",
         "6829-68769-0000",
         "<src.eval.SampleResult.SampleResult object at 0x7f796a055090>",
         "734",
         "738",
         "735"
        ],
        [
         "35",
         "121-121726-0000",
         "<src.eval.SampleResult.SampleResult object at 0x7f796a3b2ad0>",
         "134",
         "134",
         "135"
        ],
        [
         "36",
         "6930-76324-0001",
         "<src.eval.SampleResult.SampleResult object at 0x7f7969dd1310>",
         "429",
         "426",
         "432"
        ],
        [
         "37",
         "260-123440-0000",
         "<src.eval.SampleResult.SampleResult object at 0x7f7969e567d0>",
         "298",
         "299",
         "301"
        ],
        [
         "38",
         "121-123852-0000",
         "<src.eval.SampleResult.SampleResult object at 0x7f7969c91c90>",
         "116",
         "116",
         "115"
        ],
        [
         "39",
         "8463-294825-0000",
         "<src.eval.SampleResult.SampleResult object at 0x7f7969b20510>",
         "296",
         "297",
         "296"
        ],
        [
         "40",
         "3570-5694-0000",
         "<src.eval.SampleResult.SampleResult object at 0x7f7969206590>",
         "613",
         "616",
         "614"
        ],
        [
         "41",
         "4970-29093-0000",
         "<src.eval.SampleResult.SampleResult object at 0x7f7968ff8f10>",
         "596",
         "598",
         "600"
        ],
        [
         "42",
         "4446-2275-0000",
         "<src.eval.SampleResult.SampleResult object at 0x7f7968d47b10>",
         "574",
         "575",
         "576"
        ],
        [
         "43",
         "7127-75946-0000",
         "<src.eval.SampleResult.SampleResult object at 0x7f79687c5310>",
         "601",
         "605",
         "604"
        ],
        [
         "44",
         "5683-32866-0000",
         "<src.eval.SampleResult.SampleResult object at 0x7f79686f5b90>",
         "503",
         "503",
         "505"
        ],
        [
         "45",
         "8455-210777-0000",
         "<src.eval.SampleResult.SampleResult object at 0x7f7967ca5c10>",
         "1151",
         "1140",
         "1151"
        ],
        [
         "46",
         "1995-1837-0000",
         "<src.eval.SampleResult.SampleResult object at 0x7f7967d01c10>",
         "504",
         "504",
         "505"
        ],
        [
         "47",
         "8463-287645-0000",
         "<src.eval.SampleResult.SampleResult object at 0x7f7967be8310>",
         "314",
         "314",
         "314"
        ],
        [
         "48",
         "1580-141084-0000",
         "<src.eval.SampleResult.SampleResult object at 0x7f7967729310>",
         "688",
         "662",
         "691"
        ],
        [
         "49",
         "908-157963-0000",
         "<src.eval.SampleResult.SampleResult object at 0x7f796738a990>",
         "616",
         "604",
         "621"
        ]
       ],
       "shape": {
        "columns": 5,
        "rows": 83
       }
      },
      "text/html": [
       "<div>\n",
       "<style scoped>\n",
       "    .dataframe tbody tr th:only-of-type {\n",
       "        vertical-align: middle;\n",
       "    }\n",
       "\n",
       "    .dataframe tbody tr th {\n",
       "        vertical-align: top;\n",
       "    }\n",
       "\n",
       "    .dataframe thead th {\n",
       "        text-align: right;\n",
       "    }\n",
       "</style>\n",
       "<table border=\"1\" class=\"dataframe\">\n",
       "  <thead>\n",
       "    <tr style=\"text-align: right;\">\n",
       "      <th></th>\n",
       "      <th>id</th>\n",
       "      <th>sample</th>\n",
       "      <th>word_count_final</th>\n",
       "      <th>word_count_baseline</th>\n",
       "      <th>word_count_transcript</th>\n",
       "    </tr>\n",
       "  </thead>\n",
       "  <tbody>\n",
       "    <tr>\n",
       "      <th>0</th>\n",
       "      <td>8224-274384-0001</td>\n",
       "      <td>&lt;src.eval.SampleResult.SampleResult object at ...</td>\n",
       "      <td>333</td>\n",
       "      <td>333</td>\n",
       "      <td>333</td>\n",
       "    </tr>\n",
       "    <tr>\n",
       "      <th>1</th>\n",
       "      <td>4446-2271-0000</td>\n",
       "      <td>&lt;src.eval.SampleResult.SampleResult object at ...</td>\n",
       "      <td>394</td>\n",
       "      <td>394</td>\n",
       "      <td>395</td>\n",
       "    </tr>\n",
       "    <tr>\n",
       "      <th>2</th>\n",
       "      <td>4077-13754-0000</td>\n",
       "      <td>&lt;src.eval.SampleResult.SampleResult object at ...</td>\n",
       "      <td>579</td>\n",
       "      <td>583</td>\n",
       "      <td>585</td>\n",
       "    </tr>\n",
       "    <tr>\n",
       "      <th>3</th>\n",
       "      <td>5105-28233-0000</td>\n",
       "      <td>&lt;src.eval.SampleResult.SampleResult object at ...</td>\n",
       "      <td>319</td>\n",
       "      <td>316</td>\n",
       "      <td>317</td>\n",
       "    </tr>\n",
       "    <tr>\n",
       "      <th>4</th>\n",
       "      <td>908-31957-0000</td>\n",
       "      <td>&lt;src.eval.SampleResult.SampleResult object at ...</td>\n",
       "      <td>473</td>\n",
       "      <td>466</td>\n",
       "      <td>472</td>\n",
       "    </tr>\n",
       "    <tr>\n",
       "      <th>...</th>\n",
       "      <td>...</td>\n",
       "      <td>...</td>\n",
       "      <td>...</td>\n",
       "      <td>...</td>\n",
       "      <td>...</td>\n",
       "    </tr>\n",
       "    <tr>\n",
       "      <th>78</th>\n",
       "      <td>2961-961-0000</td>\n",
       "      <td>&lt;src.eval.SampleResult.SampleResult object at ...</td>\n",
       "      <td>515</td>\n",
       "      <td>514</td>\n",
       "      <td>517</td>\n",
       "    </tr>\n",
       "    <tr>\n",
       "      <th>79</th>\n",
       "      <td>4970-29095-0000</td>\n",
       "      <td>&lt;src.eval.SampleResult.SampleResult object at ...</td>\n",
       "      <td>671</td>\n",
       "      <td>654</td>\n",
       "      <td>675</td>\n",
       "    </tr>\n",
       "    <tr>\n",
       "      <th>80</th>\n",
       "      <td>3575-170457-0000</td>\n",
       "      <td>&lt;src.eval.SampleResult.SampleResult object at ...</td>\n",
       "      <td>1327</td>\n",
       "      <td>1325</td>\n",
       "      <td>1342</td>\n",
       "    </tr>\n",
       "    <tr>\n",
       "      <th>81</th>\n",
       "      <td>61-70970-0000</td>\n",
       "      <td>&lt;src.eval.SampleResult.SampleResult object at ...</td>\n",
       "      <td>626</td>\n",
       "      <td>607</td>\n",
       "      <td>628</td>\n",
       "    </tr>\n",
       "    <tr>\n",
       "      <th>82</th>\n",
       "      <td>7176-88083-0000</td>\n",
       "      <td>&lt;src.eval.SampleResult.SampleResult object at ...</td>\n",
       "      <td>611</td>\n",
       "      <td>609</td>\n",
       "      <td>610</td>\n",
       "    </tr>\n",
       "  </tbody>\n",
       "</table>\n",
       "<p>83 rows × 5 columns</p>\n",
       "</div>"
      ],
      "text/plain": [
       "                  id                                             sample  \\\n",
       "0   8224-274384-0001  <src.eval.SampleResult.SampleResult object at ...   \n",
       "1     4446-2271-0000  <src.eval.SampleResult.SampleResult object at ...   \n",
       "2    4077-13754-0000  <src.eval.SampleResult.SampleResult object at ...   \n",
       "3    5105-28233-0000  <src.eval.SampleResult.SampleResult object at ...   \n",
       "4     908-31957-0000  <src.eval.SampleResult.SampleResult object at ...   \n",
       "..               ...                                                ...   \n",
       "78     2961-961-0000  <src.eval.SampleResult.SampleResult object at ...   \n",
       "79   4970-29095-0000  <src.eval.SampleResult.SampleResult object at ...   \n",
       "80  3575-170457-0000  <src.eval.SampleResult.SampleResult object at ...   \n",
       "81     61-70970-0000  <src.eval.SampleResult.SampleResult object at ...   \n",
       "82   7176-88083-0000  <src.eval.SampleResult.SampleResult object at ...   \n",
       "\n",
       "    word_count_final  word_count_baseline  word_count_transcript  \n",
       "0                333                  333                    333  \n",
       "1                394                  394                    395  \n",
       "2                579                  583                    585  \n",
       "3                319                  316                    317  \n",
       "4                473                  466                    472  \n",
       "..               ...                  ...                    ...  \n",
       "78               515                  514                    517  \n",
       "79               671                  654                    675  \n",
       "80              1327                 1325                   1342  \n",
       "81               626                  607                    628  \n",
       "82               611                  609                    610  \n",
       "\n",
       "[83 rows x 5 columns]"
      ]
     },
     "execution_count": 7,
     "metadata": {},
     "output_type": "execute_result"
    }
   ],
   "source": [
    "samples_df = pd.DataFrame([{\n",
    "    \"id\": sample.sample_id,\n",
    "    \"sample\": sample,\n",
    "    \"word_count_final\": len(sample.final),\n",
    "    \"word_count_baseline\": len(sample.baseline),\n",
    "    \"word_count_transcript\": len(sample.transcript),\n",
    "} for sample in samples])\n",
    "samples_df"
   ]
  },
  {
   "cell_type": "code",
   "execution_count": 8,
   "id": "dfebdb9e",
   "metadata": {},
   "outputs": [],
   "source": [
    "def total_partial_words(sample: SampleResult) -> int:\n",
    "    partial_words = [len(partial.result) for partial in sample.partials]\n",
    "    return sum(partial_words)\n",
    "\n",
    "def unaligned_partial_words(sample: SampleResult) -> int:\n",
    "    unalignments = [len(alignements.unalignments) for alignements in sample.alignments]\n",
    "    return sum(unalignments)"
   ]
  },
  {
   "cell_type": "code",
   "execution_count": 9,
   "id": "ed182e0c",
   "metadata": {},
   "outputs": [],
   "source": [
    "samples_df[\"unaligned_partial_count\"] = samples_df[\"sample\"].apply(unaligned_partial_words)\n",
    "samples_df[\"partial_count\"] = samples_df[\"sample\"].apply(total_partial_words)\n",
    "\n",
    "eval[\"total_partial_count\"] = samples_df[\"partial_count\"].sum().item()\n",
    "eval[\"unaligned_partial_count\"] = samples_df[\"unaligned_partial_count\"].sum().item()"
   ]
  },
  {
   "cell_type": "markdown",
   "id": "9fe03f12",
   "metadata": {},
   "source": [
    "## Word first correct\n",
    "\n",
    "The word first correct (wfc) is defined as the first correct occurence of a word."
   ]
  },
  {
   "cell_type": "code",
   "execution_count": 10,
   "id": "4c4091b0",
   "metadata": {},
   "outputs": [],
   "source": [
    "wfc = [s.word_first_corrects() for s in samples]"
   ]
  },
  {
   "cell_type": "code",
   "execution_count": 11,
   "id": "db18a175",
   "metadata": {},
   "outputs": [
    {
     "name": "stdout",
     "output_type": "stream",
     "text": [
      "None values in wfc:  152 (0.31%)\n"
     ]
    }
   ],
   "source": [
    "total_wfc = np.concat(wfc)\n",
    "wfc_latency = np.array([r[\"latency\"] for r in total_wfc if r is not None])\n",
    "none_wfc_count = len(total_wfc) - len(wfc_latency)\n",
    "print(\"None values in wfc: \", none_wfc_count, f\"({none_wfc_count / len(total_wfc) * 100:.2f}%)\")\n",
    "eval[\"wfc_none_count\"] = none_wfc_count"
   ]
  },
  {
   "cell_type": "code",
   "execution_count": 12,
   "id": "69340de7",
   "metadata": {},
   "outputs": [
    {
     "name": "stdout",
     "output_type": "stream",
     "text": [
      "Min: 0.29284018646926313\n",
      "Max: 2.767879110574711\n",
      "Mean: 0.3828124440878305\n",
      "Median: 0.35150290194898637\n",
      "Std: 0.09969568109055801\n",
      "P95: 0.5909469536449827\n",
      "P99: 0.7837692177779992\n"
     ]
    }
   ],
   "source": [
    "print(\"Min:\", np.min(wfc_latency))\n",
    "print(\"Max:\", np.max(wfc_latency))\n",
    "print(\"Mean:\", np.mean(wfc_latency))\n",
    "print(\"Median:\", np.median(wfc_latency))\n",
    "print(\"Std:\", np.std(wfc_latency))\n",
    "print(\"P95:\", np.percentile(wfc_latency, 95))\n",
    "print(\"P99:\", np.percentile(wfc_latency, 99))\n",
    "\n",
    "eval[\"wfc_latency_count\"] = len(wfc_latency)\n",
    "eval[\"wfc_latency_mean\"] = np.mean(wfc_latency).item()\n",
    "eval[\"wfc_latency_std\"] = np.std(wfc_latency).item()\n",
    "eval[\"wfc_latency_median\"] = np.median(wfc_latency).item()"
   ]
  },
  {
   "cell_type": "code",
   "execution_count": 13,
   "id": "edbcf562",
   "metadata": {},
   "outputs": [],
   "source": [
    "### DEBUG\n",
    "\n",
    "for i, s_el in enumerate(wfc):\n",
    "    for el in s_el:\n",
    "        if el and el[\"latency\"] > 30:\n",
    "            sample_id = samples[i].sample_id\n",
    "            print(f\"Sample {sample_id} with huge latency {el}\")"
   ]
  },
  {
   "cell_type": "code",
   "execution_count": 14,
   "id": "5408d66e",
   "metadata": {},
   "outputs": [
    {
     "data": {
      "image/png": "[encoded data removed]",
      "text/plain": [
       "<Figure size 640x480 with 1 Axes>"
      ]
     },
     "metadata": {},
     "output_type": "display_data"
    }
   ],
   "source": [
    "plt.hist(wfc_latency,\n",
    "         bins=100,\n",
    "         range=(0, math.ceil(np.percentile(wfc_latency, 99).item())),\n",
    "         )\n",
    "plt.xlabel(\"Latency (s)\")\n",
    "plt.ylabel(\"Count\")\n",
    "plt.title(f\"Word First Correct (WFC) Latency Distribution, {ALIGNMENT_SEQUENCE} alignment\")\n",
    "plt.grid()"
   ]
  },
  {
   "cell_type": "markdown",
   "id": "671edb42",
   "metadata": {},
   "source": [
    "## Word first final\n",
    "\n",
    "The word first final (wff) is defined as the first occurence after which a word will never change to a different prediction."
   ]
  },
  {
   "cell_type": "code",
   "execution_count": 15,
   "id": "40cff5b6",
   "metadata": {},
   "outputs": [],
   "source": [
    "wff = [s.word_first_finals() for s in samples]"
   ]
  },
  {
   "cell_type": "code",
   "execution_count": 16,
   "id": "4ccad6c3",
   "metadata": {},
   "outputs": [
    {
     "name": "stdout",
     "output_type": "stream",
     "text": [
      "None values in wff:  152 (0.31%)\n"
     ]
    }
   ],
   "source": [
    "total_wff = np.concat(wff)\n",
    "wff_latency = np.array([r[\"latency\"] for r in total_wff if r is not None])\n",
    "none_wff_count = len(total_wff) - len(wff_latency)\n",
    "print(\"None values in wff: \", none_wff_count, f\"({none_wff_count / len(total_wff) * 100:.2f}%)\")\n",
    "eval[\"wff_none_count\"] = none_wff_count"
   ]
  },
  {
   "cell_type": "code",
   "execution_count": 17,
   "id": "c9c2ae9f",
   "metadata": {},
   "outputs": [
    {
     "name": "stdout",
     "output_type": "stream",
     "text": [
      "Min: 0.29284018646926313\n",
      "Max: 2.767879110574711\n",
      "Mean: 0.3828124440878305\n",
      "Median: 0.35150290194898637\n",
      "Std: 0.09969568109055801\n",
      "P95: 0.5909469536449827\n",
      "P99: 0.7837692177779992\n"
     ]
    }
   ],
   "source": [
    "print(\"Min:\", np.min(wff_latency))\n",
    "print(\"Max:\", np.max(wff_latency))\n",
    "print(\"Mean:\", np.mean(wff_latency))\n",
    "print(\"Median:\", np.median(wff_latency))\n",
    "print(\"Std:\", np.std(wff_latency))\n",
    "print(\"P95:\", np.percentile(wff_latency, 95))\n",
    "print(\"P99:\", np.percentile(wff_latency, 99))\n",
    "\n",
    "eval[\"wff_latency_count\"] = len(wff_latency)\n",
    "eval[\"wff_latency_mean\"] = np.mean(wff_latency).item()\n",
    "eval[\"wff_latency_std\"] = np.std(wff_latency).item()\n",
    "eval[\"wff_latency_median\"] = np.median(wff_latency).item()"
   ]
  },
  {
   "cell_type": "code",
   "execution_count": 18,
   "id": "c98965ea",
   "metadata": {},
   "outputs": [
    {
     "data": {
      "image/png": "[encoded data removed]",
      "text/plain": [
       "<Figure size 640x480 with 1 Axes>"
      ]
     },
     "metadata": {},
     "output_type": "display_data"
    }
   ],
   "source": [
    "plt.hist(wff_latency, bins=100, range=(math.floor(np.percentile(wff_latency, 1)), math.ceil(np.percentile(wff_latency, 99).item())))\n",
    "plt.xlabel(\"Latency (s)\")\n",
    "plt.ylabel(\"Count\")\n",
    "plt.title(f\"Word First Final (WFF) Latency Distribution, {ALIGNMENT_SEQUENCE} alignment\")\n",
    "plt.grid()"
   ]
  },
  {
   "cell_type": "code",
   "execution_count": 19,
   "id": "f511f425",
   "metadata": {},
   "outputs": [
    {
     "data": {
      "application/vnd.microsoft.datawrangler.viewer.v0+json": {
       "columns": [
        {
         "name": "index",
         "rawType": "object",
         "type": "string"
        },
        {
         "name": "0",
         "rawType": "object",
         "type": "unknown"
        }
       ],
       "ref": "08cdd315-0490-42cc-874e-c2156e8a4e2d",
       "rows": [
        [
         "num_samples",
         "83"
        ],
        [
         "alignment_sequence",
         "final"
        ],
        [
         "alignment_word_normalization",
         "True"
        ],
        [
         "temporal_alignment_tolerance",
         "0.1"
        ],
        [
         "total_partial_count",
         "765097"
        ],
        [
         "unaligned_partial_count",
         "0"
        ],
        [
         "wfc_none_count",
         "152"
        ],
        [
         "wfc_latency_count",
         "48208"
        ],
        [
         "wfc_latency_mean",
         "0.3828124440878305"
        ],
        [
         "wfc_latency_std",
         "0.09969568109055801"
        ],
        [
         "wfc_latency_median",
         "0.35150290194898637"
        ],
        [
         "wff_none_count",
         "152"
        ],
        [
         "wff_latency_count",
         "48208"
        ],
        [
         "wff_latency_mean",
         "0.3828124440878305"
        ],
        [
         "wff_latency_std",
         "0.09969568109055801"
        ],
        [
         "wff_latency_median",
         "0.35150290194898637"
        ]
       ],
       "shape": {
        "columns": 1,
        "rows": 16
       }
      },
      "text/plain": [
       "num_samples                           83\n",
       "alignment_sequence                 final\n",
       "alignment_word_normalization        True\n",
       "temporal_alignment_tolerance         0.1\n",
       "total_partial_count               765097\n",
       "unaligned_partial_count                0\n",
       "wfc_none_count                       152\n",
       "wfc_latency_count                  48208\n",
       "wfc_latency_mean                0.382812\n",
       "wfc_latency_std                 0.099696\n",
       "wfc_latency_median              0.351503\n",
       "wff_none_count                       152\n",
       "wff_latency_count                  48208\n",
       "wff_latency_mean                0.382812\n",
       "wff_latency_std                 0.099696\n",
       "wff_latency_median              0.351503\n",
       "dtype: object"
      ]
     },
     "execution_count": 19,
     "metadata": {},
     "output_type": "execute_result"
    }
   ],
   "source": [
    "eval"
   ]
  }
 ],
 "metadata": {
  "kernelspec": {
   "display_name": "asr",
   "language": "python",
   "name": "python3"
  },
  "language_info": {
   "codemirror_mode": {
    "name": "ipython",
    "version": 3
   },
   "file_extension": ".py",
   "mimetype": "text/x-python",
   "name": "python",
   "nbconvert_exporter": "python",
   "pygments_lexer": "ipython3",
   "version": "3.11.0"
  }
 },
 "nbformat": 4,
 "nbformat_minor": 5
}
