{
 "cells": [
  {
   "cell_type": "markdown",
   "id": "ad09a98b",
   "metadata": {},
   "source": [
    "# Latency evaluation"
   ]
  },
  {
   "cell_type": "code",
   "execution_count": 1,
   "id": "14fb23c8",
   "metadata": {},
   "outputs": [],
   "source": [
    "RESULT_DIR = \"../out/2025-05-05_13-29-23_librispeech-pc-test-clean_large-v3-turbo\""
   ]
  },
  {
   "cell_type": "code",
   "execution_count": 2,
   "id": "f1f279a4",
   "metadata": {},
   "outputs": [],
   "source": [
    "import os\n",
    "import sys\n",
    "sys.path.append(\"..\")\n",
    "\n",
    "import math\n",
    "import numpy as np\n",
    "import matplotlib.pyplot as plt\n",
    "import pandas as pd\n",
    "\n",
    "from src.eval.SampleResult import SampleResult"
   ]
  },
  {
   "cell_type": "code",
   "execution_count": 3,
   "id": "75316dd6",
   "metadata": {},
   "outputs": [
    {
     "name": "stderr",
     "output_type": "stream",
     "text": [
      "/Users/niko/Code/streaming-asr-evaluation/notebooks/../src/eval/SampleResult.py:158: UserWarning: Final MFA file not found: ../out/2025-05-05_13-29-23_librispeech-pc-test-clean_large-v3-turbo/mfa/3575-170457-0000/3575-170457-0000.TextGrid\n",
      "  warnings.warn(f\"Final MFA file not found: {final_mfa_path}\")\n",
      "/Users/niko/Code/streaming-asr-evaluation/notebooks/../src/eval/SampleResult.py:158: UserWarning: Final MFA file not found: ../out/2025-05-05_13-29-23_librispeech-pc-test-clean_large-v3-turbo/mfa/7127-75947-0000/7127-75947-0000.TextGrid\n",
      "  warnings.warn(f\"Final MFA file not found: {final_mfa_path}\")\n"
     ]
    }
   ],
   "source": [
    "files = os.listdir(RESULT_DIR)\n",
    "files = [f for f in files if f.endswith(\"final.json\")]\n",
    "\n",
    "# get ids from the first part of the filename separated by \"_\"\n",
    "file_ids = [f.split(\"_\")[0] for f in files]\n",
    "\n",
    "samples = [SampleResult.load_by_id(RESULT_DIR, file_id) for file_id in file_ids]"
   ]
  },
  {
   "cell_type": "markdown",
   "id": "4698008e",
   "metadata": {},
   "source": [
    "# Evaluation Parameters"
   ]
  },
  {
   "cell_type": "code",
   "execution_count": 95,
   "id": "dbc038b4",
   "metadata": {},
   "outputs": [],
   "source": [
    "ALIGNMENT_SEQUENCE = \"baseline\"\n",
    "TEMPORAL_ALIGNMENT_TOLERANCE = 0.1\n",
    "ALIGNMENT_WORD_NORMALIZATION = True     # No difference"
   ]
  },
  {
   "cell_type": "code",
   "execution_count": 96,
   "id": "5e9520e3",
   "metadata": {},
   "outputs": [],
   "source": [
    "eval = pd.Series()\n",
    "eval[\"num_samples\"] = len(samples)\n",
    "eval[\"alignment_sequence\"] = ALIGNMENT_SEQUENCE\n",
    "eval[\"alignment_word_normalization\"] = ALIGNMENT_WORD_NORMALIZATION\n",
    "eval[\"temporal_alignment_tolerance\"] = TEMPORAL_ALIGNMENT_TOLERANCE"
   ]
  },
  {
   "cell_type": "code",
   "execution_count": 97,
   "id": "62a7c71b",
   "metadata": {},
   "outputs": [],
   "source": [
    "for sample in samples:\n",
    "    try:\n",
    "        sample.build_alignments(normalize_words=ALIGNMENT_WORD_NORMALIZATION,\n",
    "                                align_to=ALIGNMENT_SEQUENCE,\n",
    "                                temporal_tolerance=TEMPORAL_ALIGNMENT_TOLERANCE)\n",
    "    except Exception as e:\n",
    "        print(f\"Error processing sample {sample.sample_id}: {e}\")\n",
    "        continue"
   ]
  },
  {
   "cell_type": "code",
   "execution_count": 98,
   "id": "f0d0c91c",
   "metadata": {},
   "outputs": [
    {
     "data": {
      "text/html": [
       "<div>\n",
       "<style scoped>\n",
       "    .dataframe tbody tr th:only-of-type {\n",
       "        vertical-align: middle;\n",
       "    }\n",
       "\n",
       "    .dataframe tbody tr th {\n",
       "        vertical-align: top;\n",
       "    }\n",
       "\n",
       "    .dataframe thead th {\n",
       "        text-align: right;\n",
       "    }\n",
       "</style>\n",
       "<table border=\"1\" class=\"dataframe\">\n",
       "  <thead>\n",
       "    <tr style=\"text-align: right;\">\n",
       "      <th></th>\n",
       "      <th>id</th>\n",
       "      <th>sample</th>\n",
       "      <th>word_count_final</th>\n",
       "      <th>word_count_baseline</th>\n",
       "      <th>word_count_transcript</th>\n",
       "    </tr>\n",
       "  </thead>\n",
       "  <tbody>\n",
       "    <tr>\n",
       "      <th>0</th>\n",
       "      <td>7127-75946-0000</td>\n",
       "      <td>&lt;src.eval.SampleResult.SampleResult object at ...</td>\n",
       "      <td>496</td>\n",
       "      <td>605</td>\n",
       "      <td>604</td>\n",
       "    </tr>\n",
       "    <tr>\n",
       "      <th>1</th>\n",
       "      <td>908-31957-0000</td>\n",
       "      <td>&lt;src.eval.SampleResult.SampleResult object at ...</td>\n",
       "      <td>450</td>\n",
       "      <td>466</td>\n",
       "      <td>472</td>\n",
       "    </tr>\n",
       "    <tr>\n",
       "      <th>2</th>\n",
       "      <td>5142-33396-0000</td>\n",
       "      <td>&lt;src.eval.SampleResult.SampleResult object at ...</td>\n",
       "      <td>799</td>\n",
       "      <td>921</td>\n",
       "      <td>941</td>\n",
       "    </tr>\n",
       "    <tr>\n",
       "      <th>3</th>\n",
       "      <td>2094-142345-0000</td>\n",
       "      <td>&lt;src.eval.SampleResult.SampleResult object at ...</td>\n",
       "      <td>1055</td>\n",
       "      <td>1082</td>\n",
       "      <td>1159</td>\n",
       "    </tr>\n",
       "    <tr>\n",
       "      <th>4</th>\n",
       "      <td>121-123852-0000</td>\n",
       "      <td>&lt;src.eval.SampleResult.SampleResult object at ...</td>\n",
       "      <td>122</td>\n",
       "      <td>116</td>\n",
       "      <td>115</td>\n",
       "    </tr>\n",
       "    <tr>\n",
       "      <th>...</th>\n",
       "      <td>...</td>\n",
       "      <td>...</td>\n",
       "      <td>...</td>\n",
       "      <td>...</td>\n",
       "      <td>...</td>\n",
       "    </tr>\n",
       "    <tr>\n",
       "      <th>78</th>\n",
       "      <td>908-157963-0000</td>\n",
       "      <td>&lt;src.eval.SampleResult.SampleResult object at ...</td>\n",
       "      <td>513</td>\n",
       "      <td>604</td>\n",
       "      <td>621</td>\n",
       "    </tr>\n",
       "    <tr>\n",
       "      <th>79</th>\n",
       "      <td>3570-5694-0000</td>\n",
       "      <td>&lt;src.eval.SampleResult.SampleResult object at ...</td>\n",
       "      <td>521</td>\n",
       "      <td>616</td>\n",
       "      <td>614</td>\n",
       "    </tr>\n",
       "    <tr>\n",
       "      <th>80</th>\n",
       "      <td>7021-85628-0000</td>\n",
       "      <td>&lt;src.eval.SampleResult.SampleResult object at ...</td>\n",
       "      <td>470</td>\n",
       "      <td>475</td>\n",
       "      <td>477</td>\n",
       "    </tr>\n",
       "    <tr>\n",
       "      <th>81</th>\n",
       "      <td>4992-41806-0000</td>\n",
       "      <td>&lt;src.eval.SampleResult.SampleResult object at ...</td>\n",
       "      <td>362</td>\n",
       "      <td>368</td>\n",
       "      <td>384</td>\n",
       "    </tr>\n",
       "    <tr>\n",
       "      <th>82</th>\n",
       "      <td>1995-1826-0000</td>\n",
       "      <td>&lt;src.eval.SampleResult.SampleResult object at ...</td>\n",
       "      <td>300</td>\n",
       "      <td>371</td>\n",
       "      <td>374</td>\n",
       "    </tr>\n",
       "  </tbody>\n",
       "</table>\n",
       "<p>83 rows × 5 columns</p>\n",
       "</div>"
      ],
      "text/plain": [
       "                  id                                             sample  \\\n",
       "0    7127-75946-0000  <src.eval.SampleResult.SampleResult object at ...   \n",
       "1     908-31957-0000  <src.eval.SampleResult.SampleResult object at ...   \n",
       "2    5142-33396-0000  <src.eval.SampleResult.SampleResult object at ...   \n",
       "3   2094-142345-0000  <src.eval.SampleResult.SampleResult object at ...   \n",
       "4    121-123852-0000  <src.eval.SampleResult.SampleResult object at ...   \n",
       "..               ...                                                ...   \n",
       "78   908-157963-0000  <src.eval.SampleResult.SampleResult object at ...   \n",
       "79    3570-5694-0000  <src.eval.SampleResult.SampleResult object at ...   \n",
       "80   7021-85628-0000  <src.eval.SampleResult.SampleResult object at ...   \n",
       "81   4992-41806-0000  <src.eval.SampleResult.SampleResult object at ...   \n",
       "82    1995-1826-0000  <src.eval.SampleResult.SampleResult object at ...   \n",
       "\n",
       "    word_count_final  word_count_baseline  word_count_transcript  \n",
       "0                496                  605                    604  \n",
       "1                450                  466                    472  \n",
       "2                799                  921                    941  \n",
       "3               1055                 1082                   1159  \n",
       "4                122                  116                    115  \n",
       "..               ...                  ...                    ...  \n",
       "78               513                  604                    621  \n",
       "79               521                  616                    614  \n",
       "80               470                  475                    477  \n",
       "81               362                  368                    384  \n",
       "82               300                  371                    374  \n",
       "\n",
       "[83 rows x 5 columns]"
      ]
     },
     "execution_count": 98,
     "metadata": {},
     "output_type": "execute_result"
    }
   ],
   "source": [
    "samples_df = pd.DataFrame([{\n",
    "    \"id\": sample.sample_id,\n",
    "    \"sample\": sample,\n",
    "    \"word_count_final\": len(sample.final),\n",
    "    \"word_count_baseline\": len(sample.baseline),\n",
    "    \"word_count_transcript\": len(sample.transcript),\n",
    "} for sample in samples])\n",
    "samples_df"
   ]
  },
  {
   "cell_type": "code",
   "execution_count": 99,
   "id": "dfebdb9e",
   "metadata": {},
   "outputs": [],
   "source": [
    "def total_partial_words(sample: SampleResult) -> int:\n",
    "    partial_words = [len(partial.result) for partial in sample.partials]\n",
    "    return sum(partial_words)\n",
    "\n",
    "def unaligned_partial_words(sample: SampleResult) -> int:\n",
    "    unalignments = [len(alignements.unalignments) for alignements in sample.alignments]\n",
    "    return sum(unalignments)"
   ]
  },
  {
   "cell_type": "code",
   "execution_count": 100,
   "id": "ed182e0c",
   "metadata": {},
   "outputs": [],
   "source": [
    "samples_df[\"unaligned_partial_count\"] = samples_df[\"sample\"].apply(unaligned_partial_words)\n",
    "samples_df[\"partial_count\"] = samples_df[\"sample\"].apply(total_partial_words)\n",
    "\n",
    "eval[\"total_partial_count\"] = samples_df[\"partial_count\"].sum().item()\n",
    "eval[\"unaligned_partial_count\"] = samples_df[\"unaligned_partial_count\"].sum().item()"
   ]
  },
  {
   "cell_type": "markdown",
   "id": "9fe03f12",
   "metadata": {},
   "source": [
    "## Word first correct\n",
    "\n",
    "The word first correct (wfc) is defined as the first correct occurence of a word."
   ]
  },
  {
   "cell_type": "code",
   "execution_count": 101,
   "id": "4c4091b0",
   "metadata": {},
   "outputs": [],
   "source": [
    "wfc = [s.word_first_corrects() for s in samples]"
   ]
  },
  {
   "cell_type": "code",
   "execution_count": 102,
   "id": "db18a175",
   "metadata": {},
   "outputs": [
    {
     "name": "stdout",
     "output_type": "stream",
     "text": [
      "None values in wfc:  186 (0.39%)\n"
     ]
    }
   ],
   "source": [
    "total_wfc = np.concat(wfc)\n",
    "wfc_latency = np.array([r[\"latency\"] for r in total_wfc if r is not None])\n",
    "none_wfc_count = len(total_wfc) - len(wfc_latency)\n",
    "print(\"None values in wfc: \", none_wfc_count, f\"({none_wfc_count / len(total_wfc) * 100:.2f}%)\")\n",
    "eval[\"wfc_none_count\"] = none_wfc_count"
   ]
  },
  {
   "cell_type": "code",
   "execution_count": 103,
   "id": "69340de7",
   "metadata": {},
   "outputs": [
    {
     "name": "stdout",
     "output_type": "stream",
     "text": [
      "Min: 0.38317274600267415\n",
      "Max: 80.20766255706549\n",
      "Mean: 2.6468917082347514\n",
      "Median: 2.1636991819366784\n",
      "Std: 1.756360159357369\n",
      "P95: 5.892275398805738\n",
      "P99: 9.816909682153915\n"
     ]
    }
   ],
   "source": [
    "print(\"Min:\", np.min(wfc_latency))\n",
    "print(\"Max:\", np.max(wfc_latency))\n",
    "print(\"Mean:\", np.mean(wfc_latency))\n",
    "print(\"Median:\", np.median(wfc_latency))\n",
    "print(\"Std:\", np.std(wfc_latency))\n",
    "print(\"P95:\", np.percentile(wfc_latency, 95))\n",
    "print(\"P99:\", np.percentile(wfc_latency, 99))\n",
    "\n",
    "eval[\"wfc_latency_count\"] = len(wfc_latency)\n",
    "eval[\"wfc_latency_mean\"] = np.mean(wfc_latency).item()\n",
    "eval[\"wfc_latency_std\"] = np.std(wfc_latency).item()\n",
    "eval[\"wfc_latency_median\"] = np.median(wfc_latency).item()"
   ]
  },
  {
   "cell_type": "code",
   "execution_count": 104,
   "id": "edbcf562",
   "metadata": {},
   "outputs": [
    {
     "name": "stdout",
     "output_type": "stream",
     "text": [
      "Sample 7127-75947-0000 with huge latency {'timestep': 301, 'observation_time': 223.21895988844335, 'latency': 49.27895988844335}\n",
      "Sample 5639-40744-0000 with huge latency {'timestep': 97, 'observation_time': 138.5076625570655, 'latency': 80.20766255706549}\n",
      "Sample 5639-40744-0000 with huge latency {'timestep': 97, 'observation_time': 138.5076625570655, 'latency': 79.80766255706548}\n",
      "Sample 5639-40744-0000 with huge latency {'timestep': 92, 'observation_time': 121.00884376838803, 'latency': 62.12884376838803}\n",
      "Sample 5639-40744-0000 with huge latency {'timestep': 92, 'observation_time': 121.00884376838803, 'latency': 61.36884376838803}\n"
     ]
    }
   ],
   "source": [
    "### DEBUG\n",
    "\n",
    "for i, s_el in enumerate(wfc):\n",
    "    for el in s_el:\n",
    "        if el and el[\"latency\"] > 30:\n",
    "            sample_id = samples[i].sample_id\n",
    "            print(f\"Sample {sample_id} with huge latency {el}\")"
   ]
  },
  {
   "cell_type": "code",
   "execution_count": 105,
   "id": "5408d66e",
   "metadata": {},
   "outputs": [
    {
     "data": {
      "image/png": "[encoded data removed]",
      "text/plain": [
       "<Figure size 640x480 with 1 Axes>"
      ]
     },
     "metadata": {},
     "output_type": "display_data"
    }
   ],
   "source": [
    "plt.hist(wfc_latency,\n",
    "         bins=100,\n",
    "         range=(0, math.ceil(np.percentile(wfc_latency, 99).item())),\n",
    "         )\n",
    "plt.xlabel(\"Latency (s)\")\n",
    "plt.ylabel(\"Count\")\n",
    "plt.title(f\"Word First Correct (WFC) Latency Distribution, {ALIGNMENT_SEQUENCE} alignment\")\n",
    "plt.grid()"
   ]
  },
  {
   "cell_type": "markdown",
   "id": "671edb42",
   "metadata": {},
   "source": [
    "## Word first final\n",
    "\n",
    "The word first final (wff) is defined as the first occurence after which a word will never change to a different prediction."
   ]
  },
  {
   "cell_type": "code",
   "execution_count": 106,
   "id": "40cff5b6",
   "metadata": {},
   "outputs": [],
   "source": [
    "wff = [s.word_first_finals() for s in samples]"
   ]
  },
  {
   "cell_type": "code",
   "execution_count": 107,
   "id": "4ccad6c3",
   "metadata": {},
   "outputs": [
    {
     "name": "stdout",
     "output_type": "stream",
     "text": [
      "None values in wff:  186 (0.39%)\n"
     ]
    }
   ],
   "source": [
    "total_wff = np.concat(wff)\n",
    "wff_latency = np.array([r[\"latency\"] for r in total_wff if r is not None])\n",
    "none_wff_count = len(total_wff) - len(wff_latency)\n",
    "print(\"None values in wff: \", none_wff_count, f\"({none_wff_count / len(total_wff) * 100:.2f}%)\")\n",
    "eval[\"wff_none_count\"] = none_wff_count"
   ]
  },
  {
   "cell_type": "code",
   "execution_count": 108,
   "id": "c9c2ae9f",
   "metadata": {},
   "outputs": [
    {
     "name": "stdout",
     "output_type": "stream",
     "text": [
      "Min: 0.38317274600267415\n",
      "Max: 143.80088769987225\n",
      "Mean: 8.756123575876243\n",
      "Median: 6.315489719659091\n",
      "Std: 9.659970380810906\n",
      "P95: 18.998294770952295\n",
      "P99: 30.70654663401173\n"
     ]
    }
   ],
   "source": [
    "print(\"Min:\", np.min(wff_latency))\n",
    "print(\"Max:\", np.max(wff_latency))\n",
    "print(\"Mean:\", np.mean(wff_latency))\n",
    "print(\"Median:\", np.median(wff_latency))\n",
    "print(\"Std:\", np.std(wff_latency))\n",
    "print(\"P95:\", np.percentile(wff_latency, 95))\n",
    "print(\"P99:\", np.percentile(wff_latency, 99))\n",
    "\n",
    "eval[\"wff_latency_count\"] = len(wff_latency)\n",
    "eval[\"wff_latency_mean\"] = np.mean(wff_latency).item()\n",
    "eval[\"wff_latency_std\"] = np.std(wff_latency).item()\n",
    "eval[\"wff_latency_median\"] = np.median(wff_latency).item()"
   ]
  },
  {
   "cell_type": "code",
   "execution_count": 109,
   "id": "c98965ea",
   "metadata": {},
   "outputs": [
    {
     "data": {
      "image/png": "[encoded data removed]",
      "text/plain": [
       "<Figure size 640x480 with 1 Axes>"
      ]
     },
     "metadata": {},
     "output_type": "display_data"
    }
   ],
   "source": [
    "plt.hist(wff_latency, bins=100, range=(math.floor(np.percentile(wff_latency, 1)), math.ceil(np.percentile(wff_latency, 99).item())))\n",
    "plt.xlabel(\"Latency (s)\")\n",
    "plt.ylabel(\"Count\")\n",
    "plt.title(f\"Word First Final (WFF) Latency Distribution, {ALIGNMENT_SEQUENCE} alignment\")\n",
    "plt.grid()"
   ]
  },
  {
   "cell_type": "code",
   "execution_count": 110,
   "id": "f511f425",
   "metadata": {},
   "outputs": [
    {
     "data": {
      "text/plain": [
       "num_samples                           83\n",
       "alignment_sequence              baseline\n",
       "alignment_word_normalization        True\n",
       "temporal_alignment_tolerance         0.1\n",
       "total_partial_count               964777\n",
       "unaligned_partial_count             2510\n",
       "wfc_none_count                       186\n",
       "wfc_latency_count                  47672\n",
       "wfc_latency_mean                2.646892\n",
       "wfc_latency_std                  1.75636\n",
       "wfc_latency_median              2.163699\n",
       "wff_none_count                       186\n",
       "wff_latency_count                  47672\n",
       "wff_latency_mean                8.756124\n",
       "wff_latency_std                  9.65997\n",
       "wff_latency_median               6.31549\n",
       "dtype: object"
      ]
     },
     "execution_count": 110,
     "metadata": {},
     "output_type": "execute_result"
    }
   ],
   "source": [
    "eval"
   ]
  }
 ],
 "metadata": {
  "kernelspec": {
   "display_name": "asr",
   "language": "python",
   "name": "python3"
  },
  "language_info": {
   "codemirror_mode": {
    "name": "ipython",
    "version": 3
   },
   "file_extension": ".py",
   "mimetype": "text/x-python",
   "name": "python",
   "nbconvert_exporter": "python",
   "pygments_lexer": "ipython3",
   "version": "3.11.8"
  }
 },
 "nbformat": 4,
 "nbformat_minor": 5
}
