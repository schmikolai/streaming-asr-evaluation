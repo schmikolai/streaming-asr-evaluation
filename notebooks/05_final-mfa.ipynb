{
 "cells": [
  {
   "cell_type": "markdown",
   "id": "cd7f7c1f",
   "metadata": {},
   "source": [
    "# Generate Montreal-Forced-Alignment(MFA) for final sequences"
   ]
  },
  {
   "cell_type": "code",
   "execution_count": 1,
   "id": "a57f8bd3",
   "metadata": {},
   "outputs": [],
   "source": [
    "import os\n",
    "import json"
   ]
  },
  {
   "cell_type": "code",
   "execution_count": 2,
   "id": "f00a7d8e",
   "metadata": {},
   "outputs": [],
   "source": [
    "RESULT_DIR = \"../out/2025-05-05_13-29-23_librispeech-pc-test-clean_large-v3-turbo\""
   ]
  },
  {
   "cell_type": "markdown",
   "id": "5d840c9d",
   "metadata": {},
   "source": [
    "### Prepare corpus directory within result folder"
   ]
  },
  {
   "cell_type": "code",
   "execution_count": 10,
   "id": "965b3572",
   "metadata": {},
   "outputs": [],
   "source": [
    "files = os.listdir(RESULT_DIR)\n",
    "files = [f for f in files if f.endswith(\"final.json\")]\n",
    "\n",
    "# get ids from the first part of the filename separated by \"_\"\n",
    "file_ids = [f.split(\"_\")[0] for f in files]\n",
    "\n",
    "\n",
    "for sample_id in file_ids:\n",
    "    with open(os.path.join(RESULT_DIR, sample_id + \"_final.json\"), \"r\") as f:\n",
    "        final_data = json.load(f)\n",
    "    \n",
    "    text = \"\"\n",
    "\n",
    "    for word in final_data:\n",
    "        text += word[\"word\"] + \" \"\n",
    "    text = text.strip()\n",
    "    text = text.replace(\"  \", \" \")\n",
    "    text = text.replace(\" .\", \".\")\n",
    "    \n",
    "    outdir = os.path.join(RESULT_DIR, \"mfa\", sample_id)\n",
    "    os.makedirs(outdir, exist_ok=True)\n",
    "\n",
    "    with open(os.path.join(outdir, sample_id + \".txt\"), \"w\") as f:\n",
    "        f.write(text)\n",
    "    \n",
    "    os.unlink(os.path.join(outdir, sample_id + \".mp3\"))\n",
    "\n",
    "    os.link(\n",
    "        os.path.join(\"../data/librispeech-pc-test-clean\", sample_id, sample_id + \".mp3\"),\n",
    "        os.path.join(outdir, sample_id + \".mp3\")\n",
    "    )"
   ]
  },
  {
   "cell_type": "markdown",
   "id": "125573ff",
   "metadata": {},
   "source": [
    "### Run MFA on new corpus"
   ]
  },
  {
   "cell_type": "code",
   "execution_count": 5,
   "id": "3f5d6240",
   "metadata": {},
   "outputs": [],
   "source": [
    "CORPUS_DIR = os.path.abspath(os.path.join(RESULT_DIR, \"mfa\"))"
   ]
  },
  {
   "cell_type": "code",
   "execution_count": 14,
   "id": "6e201617",
   "metadata": {},
   "outputs": [
    {
     "name": "stdout",
     "output_type": "stream",
     "text": [
      "\u001b[2;36m \u001b[0m\u001b[32mINFO    \u001b[0m Setting up corpus information\u001b[33m...\u001b[0m                                      \n",
      "\u001b[2;36m \u001b[0m\u001b[32mINFO    \u001b[0m Loading corpus from source files\u001b[33m...\u001b[0m                                   \n",
      "\u001b[2K\u001b[35m  83%\u001b[0m \u001b[91m━━━━━━━━━━━━━━━━━━━━━━━━━━━━━\u001b[0m\u001b[90m╺\u001b[0m\u001b[90m━━━━━\u001b[0m \u001b[32m83/100 \u001b[0m [ \u001b[33m0:00:02\u001b[0m < \u001b[36m-:--:--\u001b[0m , \u001b[31m? it/s\u001b[0m ]\n",
      "\u001b[?25h\u001b[2;36m \u001b[0m\u001b[32mINFO    \u001b[0m Found \u001b[1;36m83\u001b[0m speakers across \u001b[1;36m83\u001b[0m files, average number of utterances per   \n",
      "\u001b[2;36m \u001b[0m         speaker: \u001b[1;36m1.0\u001b[0m                                                          \n",
      "\u001b[2;36m \u001b[0m\u001b[32mINFO    \u001b[0m Initializing multiprocessing jobs\u001b[33m...\u001b[0m                                  \n",
      "\u001b[2;36m \u001b[0m\u001b[32mINFO    \u001b[0m Normalizing text\u001b[33m...\u001b[0m                                                   \n",
      "\u001b[2K\u001b[35m 100%\u001b[0m \u001b[90m━━━━━━━━━━━━━━━━━━━━━━━━━━━━━━━━━━━━\u001b[0m \u001b[32m83/83 \u001b[0m [ \u001b[33m0:00:01\u001b[0m < \u001b[36m0:00:00\u001b[0m , \u001b[31m? it/s\u001b[0m ]\n",
      "\u001b[?25h\u001b[2;36m \u001b[0m\u001b[32mINFO    \u001b[0m Generating MFCCs\u001b[33m...\u001b[0m                                                   \n",
      "\u001b[2K\u001b[35m   0%\u001b[0m \u001b[90m━━━━━━━━━━━━━━━━━━━━━━━━━━━━━━━━━━━━━\u001b[0m \u001b[32m0/83 \u001b[0m [ \u001b[33m0:00:00\u001b[0m < \u001b[36m-:--:--\u001b[0m , \u001b[31m? it/s\u001b[0m ]"
     ]
    }
   ],
   "source": [
    "!mfa align \\\n",
    "    {CORPUS_DIR} \\\n",
    "    english_us_mfa \\\n",
    "    english_mfa \\\n",
    "    {CORPUS_DIR} \\\n",
    "    --clean"
   ]
  }
 ],
 "metadata": {
  "kernelspec": {
   "display_name": "asr",
   "language": "python",
   "name": "python3"
  },
  "language_info": {
   "codemirror_mode": {
    "name": "ipython",
    "version": 3
   },
   "file_extension": ".py",
   "mimetype": "text/x-python",
   "name": "python",
   "nbconvert_exporter": "python",
   "pygments_lexer": "ipython3",
   "version": "3.11.8"
  }
 },
 "nbformat": 4,
 "nbformat_minor": 5
}
