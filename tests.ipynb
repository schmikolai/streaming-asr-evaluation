{
 "cells": [
  {
   "cell_type": "code",
   "execution_count": 4,
   "metadata": {},
   "outputs": [],
   "source": [
    "import logging\n",
    "import asyncio\n",
    "from jiwer import wer"
   ]
  },
  {
   "cell_type": "code",
   "execution_count": 5,
   "metadata": {},
   "outputs": [],
   "source": [
    "from src.eval.Dataset import Dataset\n",
    "from src.eval.StreamingTranscriber import StreamingTranscriber\n",
    "from src.eval.DebugTranscriberAdapter import DebugTranscriberAdapter\n",
    "from src.eval.WebsocketTranscriberAdapter import WebsocketTranscriberAdapter\n",
    "\n",
    "from src.melvin.Transcriber import Transcriber as WhisperTranscriber\n",
    "from src.melvin.WhisperStreamingTranscriberAdapter import WhisperStreamingTranscriberAdapter\n",
    "\n",
    "from src.helper.logging import init_logger, set_global_loglevel\n",
    "\n",
    "init_logger()\n",
    "set_global_loglevel(\"INFO\")\n",
    "\n",
    "logger = logging.getLogger(\"src.Main\")"
   ]
  },
  {
   "cell_type": "code",
   "execution_count": 14,
   "metadata": {},
   "outputs": [
    {
     "name": "stderr",
     "output_type": "stream",
     "text": [
      "\u001b[37m[2025-04-09 12:48:38,684 src.eval.Dataset:21] INFO Loaded dataset dummy with 2 elements\u001b[0m\n"
     ]
    }
   ],
   "source": [
    "dataset = Dataset(\"dummy\")"
   ]
  },
  {
   "cell_type": "code",
   "execution_count": 4,
   "metadata": {},
   "outputs": [
    {
     "name": "stderr",
     "output_type": "stream",
     "text": [
      "\u001b[37m[2025-04-07 15:14:59,008 src.helper.model_handler:19] INFO Setting up model.. large-v3-turbo\u001b[0m\n",
      "\u001b[34m[2025-04-07 15:14:59,011 src.helper.model_handler:26] DEBUG Model large-v3-turbo found, skipping download..\u001b[0m\n"
     ]
    }
   ],
   "source": [
    "w = WhisperTranscriber.for_gpu(\"large-v3-turbo\", [0])\n",
    "adapter = WhisperStreamingTranscriberAdapter(w)\n",
    "\n",
    "transcriber = StreamingTranscriber(adapter, chunk_length_ms=1000)"
   ]
  },
  {
   "cell_type": "code",
   "execution_count": null,
   "metadata": {},
   "outputs": [
    {
     "data": {
      "text/plain": [
       "<coroutine object run_transcription at 0x7f22e5148c40>"
      ]
     },
     "execution_count": 6,
     "metadata": {},
     "output_type": "execute_result"
    }
   ],
   "source": [
    "element = next(dataset)\n",
    "logger.info(f\"Evaluating dataset element {element[0]} with length {len(element[1])} bytes \")\n",
    "\n",
    "async def run_transcription():\n",
    "    transcription = await transcriber.transcribe(element[1])\n",
    "    logger.info(f'Transcription result: \"{transcription}\"')\n",
    "    transcription_wer = wer(element[2], transcription)\n",
    "    logger.info(f\"Transcription WER: {transcription_wer}\")\n",
    "    offline_transcription, _ = w.transcribe(element[1])\n",
    "    offline_transcription = \" \".join([s.text for s in offline_transcription])\n",
    "    logger.info(f\"Offline Transcription result: {offline_transcription}\")\n",
    "    offline_wer = wer(element[2], offline_transcription)\n",
    "    logger.info(f\"Offline Transcription WER: {offline_wer}\")\n",
    "\n",
    "run_transcription()"
   ]
  },
  {
   "cell_type": "code",
   "execution_count": 2,
   "metadata": {},
   "outputs": [],
   "source": [
    "from src.helper.write_result import write_result\n",
    "\n",
    "write_result(\n",
    "    \"wer.csv\",\n",
    "    {\n",
    "        \"id01\": {\n",
    "            \"wer\": 0.5,\n",
    "            \"transcription\": \"This is a test transcription\",\n",
    "            \"time\": 0.123,\n",
    "        },\n",
    "        \"id02\": {\n",
    "            \"wer\": 0.3,\n",
    "            \"transcription\": \"This is another test transcription\",\n",
    "            \"time\": 0.456,\n",
    "        },\n",
    "    }\n",
    ")"
   ]
  }
 ],
 "metadata": {
  "kernelspec": {
   "display_name": "asr",
   "language": "python",
   "name": "python3"
  },
  "language_info": {
   "codemirror_mode": {
    "name": "ipython",
    "version": 3
   },
   "file_extension": ".py",
   "mimetype": "text/x-python",
   "name": "python",
   "nbconvert_exporter": "python",
   "pygments_lexer": "ipython3",
   "version": "3.11.0"
  }
 },
 "nbformat": 4,
 "nbformat_minor": 2
}
